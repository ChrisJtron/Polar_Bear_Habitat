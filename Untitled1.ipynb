{
 "cells": [
  {
   "cell_type": "code",
   "execution_count": 13,
   "metadata": {},
   "outputs": [],
   "source": [
    "import pandas as pd\n",
    "import json\n",
    "import geopy.distance\n",
    "import matplotlib.pyplot as plt\n",
    "import numpy as np\n",
    "from datetime import timedelta, date, datetime\n",
    "import math"
   ]
  },
  {
   "cell_type": "code",
   "execution_count": 14,
   "metadata": {},
   "outputs": [],
   "source": [
    "from geopy import distance"
   ]
  },
  {
   "cell_type": "code",
   "execution_count": 21,
   "metadata": {},
   "outputs": [
    {
     "data": {
      "text/html": [
       "<div>\n",
       "<style scoped>\n",
       "    .dataframe tbody tr th:only-of-type {\n",
       "        vertical-align: middle;\n",
       "    }\n",
       "\n",
       "    .dataframe tbody tr th {\n",
       "        vertical-align: top;\n",
       "    }\n",
       "\n",
       "    .dataframe thead th {\n",
       "        text-align: right;\n",
       "    }\n",
       "</style>\n",
       "<table border=\"1\" class=\"dataframe\">\n",
       "  <thead>\n",
       "    <tr style=\"text-align: right;\">\n",
       "      <th></th>\n",
       "      <th>BearID_mcp</th>\n",
       "      <th>DateTimeUTC_mcp</th>\n",
       "      <th>Date</th>\n",
       "      <th>latitude_mcp</th>\n",
       "      <th>longitude_mcp</th>\n",
       "    </tr>\n",
       "  </thead>\n",
       "  <tbody>\n",
       "    <tr>\n",
       "      <th>0</th>\n",
       "      <td>1</td>\n",
       "      <td>5/3/1992 22:12</td>\n",
       "      <td>5/3/1992</td>\n",
       "      <td>74.005</td>\n",
       "      <td>-125.453</td>\n",
       "    </tr>\n",
       "    <tr>\n",
       "      <th>1</th>\n",
       "      <td>1</td>\n",
       "      <td>5/9/1992 23:54</td>\n",
       "      <td>5/9/1992</td>\n",
       "      <td>74.325</td>\n",
       "      <td>-125.857</td>\n",
       "    </tr>\n",
       "    <tr>\n",
       "      <th>2</th>\n",
       "      <td>1</td>\n",
       "      <td>5/24/1992 21:26</td>\n",
       "      <td>5/24/1992</td>\n",
       "      <td>74.099</td>\n",
       "      <td>-125.188</td>\n",
       "    </tr>\n",
       "    <tr>\n",
       "      <th>3</th>\n",
       "      <td>1</td>\n",
       "      <td>5/25/1992 0:18</td>\n",
       "      <td>5/25/1992</td>\n",
       "      <td>74.148</td>\n",
       "      <td>-125.214</td>\n",
       "    </tr>\n",
       "    <tr>\n",
       "      <th>4</th>\n",
       "      <td>1</td>\n",
       "      <td>6/7/1992 23:08</td>\n",
       "      <td>6/7/1992</td>\n",
       "      <td>73.470</td>\n",
       "      <td>-125.055</td>\n",
       "    </tr>\n",
       "    <tr>\n",
       "      <th>...</th>\n",
       "      <td>...</td>\n",
       "      <td>...</td>\n",
       "      <td>...</td>\n",
       "      <td>...</td>\n",
       "      <td>...</td>\n",
       "    </tr>\n",
       "    <tr>\n",
       "      <th>56963</th>\n",
       "      <td>308</td>\n",
       "      <td>6/8/2010 19:03</td>\n",
       "      <td>6/8/2010</td>\n",
       "      <td>72.516</td>\n",
       "      <td>-145.572</td>\n",
       "    </tr>\n",
       "    <tr>\n",
       "      <th>56964</th>\n",
       "      <td>308</td>\n",
       "      <td>6/9/2010 18:44</td>\n",
       "      <td>6/9/2010</td>\n",
       "      <td>72.572</td>\n",
       "      <td>-144.761</td>\n",
       "    </tr>\n",
       "    <tr>\n",
       "      <th>56965</th>\n",
       "      <td>308</td>\n",
       "      <td>6/10/2010 18:21</td>\n",
       "      <td>6/10/2010</td>\n",
       "      <td>72.395</td>\n",
       "      <td>-144.526</td>\n",
       "    </tr>\n",
       "    <tr>\n",
       "      <th>56966</th>\n",
       "      <td>308</td>\n",
       "      <td>6/11/2010 18:52</td>\n",
       "      <td>6/11/2010</td>\n",
       "      <td>72.152</td>\n",
       "      <td>-143.876</td>\n",
       "    </tr>\n",
       "    <tr>\n",
       "      <th>56967</th>\n",
       "      <td>308</td>\n",
       "      <td>6/12/2010 20:22</td>\n",
       "      <td>6/12/2010</td>\n",
       "      <td>71.980</td>\n",
       "      <td>-143.512</td>\n",
       "    </tr>\n",
       "  </tbody>\n",
       "</table>\n",
       "<p>56968 rows × 5 columns</p>\n",
       "</div>"
      ],
      "text/plain": [
       "       BearID_mcp  DateTimeUTC_mcp       Date  latitude_mcp  longitude_mcp\n",
       "0               1   5/3/1992 22:12   5/3/1992        74.005       -125.453\n",
       "1               1   5/9/1992 23:54   5/9/1992        74.325       -125.857\n",
       "2               1  5/24/1992 21:26  5/24/1992        74.099       -125.188\n",
       "3               1   5/25/1992 0:18  5/25/1992        74.148       -125.214\n",
       "4               1   6/7/1992 23:08   6/7/1992        73.470       -125.055\n",
       "...           ...              ...        ...           ...            ...\n",
       "56963         308   6/8/2010 19:03   6/8/2010        72.516       -145.572\n",
       "56964         308   6/9/2010 18:44   6/9/2010        72.572       -144.761\n",
       "56965         308  6/10/2010 18:21  6/10/2010        72.395       -144.526\n",
       "56966         308  6/11/2010 18:52  6/11/2010        72.152       -143.876\n",
       "56967         308  6/12/2010 20:22  6/12/2010        71.980       -143.512\n",
       "\n",
       "[56968 rows x 5 columns]"
      ]
     },
     "execution_count": 21,
     "metadata": {},
     "output_type": "execute_result"
    }
   ],
   "source": [
    "bear_data=pd.read_csv(\"Polar_bear_data.csv\")\n",
    "bear_data\n",
    "# print(bear_data.columns)"
   ]
  },
  {
   "cell_type": "code",
   "execution_count": 31,
   "metadata": {},
   "outputs": [
    {
     "data": {
      "text/plain": [
       "BearID_mcp\n",
       "1        7\n",
       "2       88\n",
       "3      102\n",
       "4       26\n",
       "5      173\n",
       "      ... \n",
       "304    164\n",
       "305     35\n",
       "306    388\n",
       "307     60\n",
       "308     49\n",
       "Name: BearID_mcp, Length: 299, dtype: int64"
      ]
     },
     "execution_count": 31,
     "metadata": {},
     "output_type": "execute_result"
    }
   ],
   "source": [
    "bear_num = bear_data.groupby(['BearID_mcp'])\n",
    "grouped_bears = bear_num['BearID_mcp'].count()\n",
    "grouped_bears"
   ]
  },
  {
   "cell_type": "code",
   "execution_count": 32,
   "metadata": {},
   "outputs": [
    {
     "data": {
      "text/plain": [
       "[32,\n",
       " 281,\n",
       " 7,\n",
       " 52,\n",
       " 144,\n",
       " 302,\n",
       " 89,\n",
       " 160,\n",
       " 50,\n",
       " 139,\n",
       " 114,\n",
       " 129,\n",
       " 207,\n",
       " 135,\n",
       " 204,\n",
       " 38,\n",
       " 213,\n",
       " 294,\n",
       " 250,\n",
       " 179]"
      ]
     },
     "execution_count": 32,
     "metadata": {},
     "output_type": "execute_result"
    }
   ],
   "source": [
    "# df_gb.sort_values, ascending=False).head(20)\n",
    "top_20 = grouped_bears.nlargest(20)\n",
    "top20_bearids = top_20.index.to_list()\n",
    "top20_bearids"
   ]
  },
  {
   "cell_type": "code",
   "execution_count": 33,
   "metadata": {},
   "outputs": [
    {
     "data": {
      "text/plain": [
       "20"
      ]
     },
     "execution_count": 33,
     "metadata": {},
     "output_type": "execute_result"
    }
   ],
   "source": [
    "len(top20_bearids)"
   ]
  },
  {
   "cell_type": "code",
   "execution_count": 34,
   "metadata": {},
   "outputs": [
    {
     "data": {
      "image/png": "[encoded data removed]",
      "text/plain": [
       "<Figure size 432x288 with 1 Axes>"
      ]
     },
     "metadata": {
      "needs_background": "light"
     },
     "output_type": "display_data"
    },
    {
     "data": {
      "text/plain": [
       "<Figure size 432x288 with 0 Axes>"
      ]
     },
     "metadata": {},
     "output_type": "display_data"
    }
   ],
   "source": [
    "top_20 = grouped_bears.nlargest(20)\n",
    "bear_chart = top_20.plot(kind=\"bar\", title=\"Number of Datapoints by Bear (Top 20)\", align=\"center\")\n",
    "bear_chart.set_xlabel('Bear ID')\n",
    "bear_chart.set_ylabel(\"Number of Datapoints by Bear\")\n",
    "# plt.xticks(rotation=45)\n",
    "plt.show()\n",
    "plt.tight_layout()\n",
    "# plt.savefig(\"./output_data/bear_datapoints.jpg\")"
   ]
  },
  {
   "cell_type": "code",
   "execution_count": 26,
   "metadata": {},
   "outputs": [],
   "source": [
    "#Find min/max datapoints\n",
    "\n",
    "max_dpts = bear_data[['BearID_mcp','Date']].groupby('BearID_mcp').max()\n",
    "min_dpts =bear_data[['BearID_mcp','Date']].groupby('BearID_mcp').min()"
   ]
  },
  {
   "cell_type": "code",
   "execution_count": 27,
   "metadata": {},
   "outputs": [
    {
     "data": {
      "text/html": [
       "<div>\n",
       "<style scoped>\n",
       "    .dataframe tbody tr th:only-of-type {\n",
       "        vertical-align: middle;\n",
       "    }\n",
       "\n",
       "    .dataframe tbody tr th {\n",
       "        vertical-align: top;\n",
       "    }\n",
       "\n",
       "    .dataframe thead th {\n",
       "        text-align: right;\n",
       "    }\n",
       "</style>\n",
       "<table border=\"1\" class=\"dataframe\">\n",
       "  <thead>\n",
       "    <tr style=\"text-align: right;\">\n",
       "      <th></th>\n",
       "      <th>BearID_mcp</th>\n",
       "      <th>DateTimeUTC_mcp</th>\n",
       "      <th>Date</th>\n",
       "      <th>latitude_mcp</th>\n",
       "      <th>longitude_mcp</th>\n",
       "      <th>First datapoint</th>\n",
       "      <th>Last datapoint</th>\n",
       "    </tr>\n",
       "  </thead>\n",
       "  <tbody>\n",
       "    <tr>\n",
       "      <th>1</th>\n",
       "      <td>1</td>\n",
       "      <td>5/9/1992 23:54</td>\n",
       "      <td>5/9/1992</td>\n",
       "      <td>74.325</td>\n",
       "      <td>-125.857</td>\n",
       "      <td>1992-05-24</td>\n",
       "      <td>1992-06-07</td>\n",
       "    </tr>\n",
       "    <tr>\n",
       "      <th>2</th>\n",
       "      <td>1</td>\n",
       "      <td>5/24/1992 21:26</td>\n",
       "      <td>5/24/1992</td>\n",
       "      <td>74.099</td>\n",
       "      <td>-125.188</td>\n",
       "      <td>1987-01-15</td>\n",
       "      <td>1986-09-02</td>\n",
       "    </tr>\n",
       "    <tr>\n",
       "      <th>3</th>\n",
       "      <td>1</td>\n",
       "      <td>5/25/1992 0:18</td>\n",
       "      <td>5/25/1992</td>\n",
       "      <td>74.148</td>\n",
       "      <td>-125.214</td>\n",
       "      <td>1990-01-01</td>\n",
       "      <td>1990-05-06</td>\n",
       "    </tr>\n",
       "    <tr>\n",
       "      <th>4</th>\n",
       "      <td>1</td>\n",
       "      <td>6/7/1992 23:08</td>\n",
       "      <td>6/7/1992</td>\n",
       "      <td>73.470</td>\n",
       "      <td>-125.055</td>\n",
       "      <td>1991-04-10</td>\n",
       "      <td>1991-05-05</td>\n",
       "    </tr>\n",
       "    <tr>\n",
       "      <th>5</th>\n",
       "      <td>1</td>\n",
       "      <td>6/13/1992 21:57</td>\n",
       "      <td>6/13/1992</td>\n",
       "      <td>73.450</td>\n",
       "      <td>-125.002</td>\n",
       "      <td>1986-10-11</td>\n",
       "      <td>1986-09-09</td>\n",
       "    </tr>\n",
       "    <tr>\n",
       "      <th>...</th>\n",
       "      <td>...</td>\n",
       "      <td>...</td>\n",
       "      <td>...</td>\n",
       "      <td>...</td>\n",
       "      <td>...</td>\n",
       "      <td>...</td>\n",
       "      <td>...</td>\n",
       "    </tr>\n",
       "    <tr>\n",
       "      <th>304</th>\n",
       "      <td>5</td>\n",
       "      <td>9/11/1985 0:21</td>\n",
       "      <td>9/11/1985</td>\n",
       "      <td>71.990</td>\n",
       "      <td>-148.570</td>\n",
       "      <td>2009-10-01</td>\n",
       "      <td>2009-09-09</td>\n",
       "    </tr>\n",
       "    <tr>\n",
       "      <th>305</th>\n",
       "      <td>5</td>\n",
       "      <td>9/12/1985 1:56</td>\n",
       "      <td>9/12/1985</td>\n",
       "      <td>71.990</td>\n",
       "      <td>-148.566</td>\n",
       "      <td>2009-10-01</td>\n",
       "      <td>2009-09-09</td>\n",
       "    </tr>\n",
       "    <tr>\n",
       "      <th>306</th>\n",
       "      <td>5</td>\n",
       "      <td>9/13/1985 0:04</td>\n",
       "      <td>9/13/1985</td>\n",
       "      <td>72.084</td>\n",
       "      <td>-148.581</td>\n",
       "      <td>2007-01-12</td>\n",
       "      <td>2006-09-09</td>\n",
       "    </tr>\n",
       "    <tr>\n",
       "      <th>307</th>\n",
       "      <td>5</td>\n",
       "      <td>9/14/1985 22:01</td>\n",
       "      <td>9/14/1985</td>\n",
       "      <td>72.219</td>\n",
       "      <td>-148.867</td>\n",
       "      <td>2016-04-22</td>\n",
       "      <td>2016-06-09</td>\n",
       "    </tr>\n",
       "    <tr>\n",
       "      <th>308</th>\n",
       "      <td>5</td>\n",
       "      <td>9/16/1985 23:22</td>\n",
       "      <td>9/16/1985</td>\n",
       "      <td>72.168</td>\n",
       "      <td>-148.605</td>\n",
       "      <td>2010-04-25</td>\n",
       "      <td>2010-06-09</td>\n",
       "    </tr>\n",
       "  </tbody>\n",
       "</table>\n",
       "<p>299 rows × 7 columns</p>\n",
       "</div>"
      ],
      "text/plain": [
       "     BearID_mcp  DateTimeUTC_mcp       Date  latitude_mcp  longitude_mcp  \\\n",
       "1             1   5/9/1992 23:54   5/9/1992        74.325       -125.857   \n",
       "2             1  5/24/1992 21:26  5/24/1992        74.099       -125.188   \n",
       "3             1   5/25/1992 0:18  5/25/1992        74.148       -125.214   \n",
       "4             1   6/7/1992 23:08   6/7/1992        73.470       -125.055   \n",
       "5             1  6/13/1992 21:57  6/13/1992        73.450       -125.002   \n",
       "..          ...              ...        ...           ...            ...   \n",
       "304           5   9/11/1985 0:21  9/11/1985        71.990       -148.570   \n",
       "305           5   9/12/1985 1:56  9/12/1985        71.990       -148.566   \n",
       "306           5   9/13/1985 0:04  9/13/1985        72.084       -148.581   \n",
       "307           5  9/14/1985 22:01  9/14/1985        72.219       -148.867   \n",
       "308           5  9/16/1985 23:22  9/16/1985        72.168       -148.605   \n",
       "\n",
       "    First datapoint Last datapoint  \n",
       "1        1992-05-24     1992-06-07  \n",
       "2        1987-01-15     1986-09-02  \n",
       "3        1990-01-01     1990-05-06  \n",
       "4        1991-04-10     1991-05-05  \n",
       "5        1986-10-11     1986-09-09  \n",
       "..              ...            ...  \n",
       "304      2009-10-01     2009-09-09  \n",
       "305      2009-10-01     2009-09-09  \n",
       "306      2007-01-12     2006-09-09  \n",
       "307      2016-04-22     2016-06-09  \n",
       "308      2010-04-25     2010-06-09  \n",
       "\n",
       "[299 rows x 7 columns]"
      ]
     },
     "execution_count": 27,
     "metadata": {},
     "output_type": "execute_result"
    }
   ],
   "source": [
    "#Create new columns for first/last datapoints and dropna's\n",
    "\n",
    "bear_data['First datapoint'] = pd.to_datetime(min_dpts['Date'])\n",
    "bear_data['Last datapoint'] = pd.to_datetime(max_dpts['Date'])\n",
    "\n",
    "clean_bear = bear_data.dropna()\n",
    "clean_bear"
   ]
  },
  {
   "cell_type": "code",
   "execution_count": 28,
   "metadata": {},
   "outputs": [
    {
     "data": {
      "text/plain": [
       "BearID_mcp                  int64\n",
       "DateTimeUTC_mcp            object\n",
       "Date                       object\n",
       "latitude_mcp              float64\n",
       "longitude_mcp             float64\n",
       "First datapoint    datetime64[ns]\n",
       "Last datapoint     datetime64[ns]\n",
       "dtype: object"
      ]
     },
     "execution_count": 28,
     "metadata": {},
     "output_type": "execute_result"
    }
   ],
   "source": [
    "clean_bear.dtypes"
   ]
  },
  {
   "cell_type": "code",
   "execution_count": 29,
   "metadata": {},
   "outputs": [
    {
     "data": {
      "text/plain": [
       "1       14\n",
       "2     -135\n",
       "3      125\n",
       "4       25\n",
       "5      -32\n",
       "      ... \n",
       "304    -22\n",
       "305    -22\n",
       "306   -125\n",
       "307     48\n",
       "308     45\n",
       "Length: 299, dtype: int64"
      ]
     },
     "execution_count": 29,
     "metadata": {},
     "output_type": "execute_result"
    }
   ],
   "source": [
    "#Bear 32 - 6728 days,?? started 1988-89, then restarted 2004 /  Bear# 281 - 1293 days\n",
    "\n",
    "# days_observ = (clean_bear['Last datapoint'].dt.date - clean_bear['First datapoint'].dt.date).dt.days.nlargest(20)\n",
    "days_observ = (clean_bear['Last datapoint'].dt.date - clean_bear['First datapoint'].dt.date).dt.days\n",
    "days_observ"
   ]
  },
  {
   "cell_type": "code",
   "execution_count": 30,
   "metadata": {},
   "outputs": [
    {
     "data": {
      "text/plain": [
       "616"
      ]
     },
     "execution_count": 30,
     "metadata": {},
     "output_type": "execute_result"
    }
   ],
   "source": [
    "days_observ[top20_bearids[0]]"
   ]
  },
  {
   "cell_type": "code",
   "execution_count": null,
   "metadata": {},
   "outputs": [],
   "source": []
  }
 ],
 "metadata": {
  "kernelspec": {
   "display_name": "Python 3",
   "language": "python",
   "name": "python3"
  },
  "language_info": {
   "codemirror_mode": {
    "name": "ipython",
    "version": 3
   },
   "file_extension": ".py",
   "mimetype": "text/x-python",
   "name": "python",
   "nbconvert_exporter": "python",
   "pygments_lexer": "ipython3",
   "version": "3.7.6"
  }
 },
 "nbformat": 4,
 "nbformat_minor": 4
}
