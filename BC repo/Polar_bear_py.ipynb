{
 "cells": [
  {
   "cell_type": "code",
   "execution_count": 20,
   "metadata": {},
   "outputs": [],
   "source": [
    "import pandas as pd\n",
    "import json\n",
    "import geopy.distance"
   ]
  },
  {
   "cell_type": "code",
   "execution_count": 12,
   "metadata": {},
   "outputs": [
    {
     "name": "stdout",
     "output_type": "stream",
     "text": [
      "       BearID_mcp  DateTimeUTC_mcp  latitude_mcp  longitude_mcp\n",
      "0               1   5/3/1992 22:12        74.005       -125.453\n",
      "1               1   5/9/1992 23:54        74.325       -125.857\n",
      "2               1  5/24/1992 21:26        74.099       -125.188\n",
      "3               1   5/25/1992 0:18        74.148       -125.214\n",
      "4               1   6/7/1992 23:08        73.470       -125.055\n",
      "...           ...              ...           ...            ...\n",
      "56972         308   6/8/2010 19:03        72.516       -145.572\n",
      "56973         308   6/9/2010 18:44        72.572       -144.761\n",
      "56974         308  6/10/2010 18:21        72.395       -144.526\n",
      "56975         308  6/11/2010 18:52        72.152       -143.876\n",
      "56976         308  6/12/2010 20:22        71.980       -143.512\n",
      "\n",
      "[56977 rows x 4 columns]\n"
     ]
    }
   ],
   "source": [
    "data=pd.read_csv(\"Polar_bear_data.csv\")\n",
    "print(data)"
   ]
  },
  {
   "cell_type": "code",
   "execution_count": 40,
   "metadata": {},
   "outputs": [],
   "source": [
    "from geopy import distance"
   ]
  },
  {
   "cell_type": "code",
   "execution_count": null,
   "metadata": {},
   "outputs": [],
   "source": [
    "for bear in bears:\n",
    "    \n",
    "\n",
    "print(distance.distance(bear1_loc, bear1_loc2, bear1_loc3, bear1_loc4, bear1_loc5).miles)"
   ]
  },
  {
   "cell_type": "code",
   "execution_count": 35,
   "metadata": {},
   "outputs": [
    {
     "name": "stdout",
     "output_type": "stream",
     "text": [
      "94.15484964649286\n"
     ]
    }
   ],
   "source": [
    "bear1_loc = (74.005, -125.453)\n",
    "bear1_loc2 = (74.325, -125.857)\n",
    "bear1_loc3 = (74.099, -125.188)\n",
    "bear1_loc4 = (74.148, -125.214)\n",
    "bear1_loc5 = (73.470, -125.055)\n",
    "\n",
    "print(distance.distance(bear1_loc, bear1_loc2, bear1_loc3, bear1_loc4, bear1_loc5).miles)"
   ]
  },
  {
   "cell_type": "code",
   "execution_count": 36,
   "metadata": {},
   "outputs": [
    {
     "name": "stdout",
     "output_type": "stream",
     "text": [
      "23.473465060459073\n"
     ]
    }
   ],
   "source": [
    "bear1_loc = (74.005, -125.453)\n",
    "bear1_loc2 = (74.325, -125.857)\n",
    "print(distance.distance(bear1_loc, bear1_loc2).miles)"
   ]
  },
  {
   "cell_type": "code",
   "execution_count": 37,
   "metadata": {},
   "outputs": [
    {
     "name": "stdout",
     "output_type": "stream",
     "text": [
      "20.128502863814866\n"
     ]
    }
   ],
   "source": [
    "bear1_loc2 = (74.325, -125.857)\n",
    "bear1_loc3 = (74.099, -125.188)\n",
    "print(distance.distance(bear1_loc2, bear1_loc3).miles)"
   ]
  },
  {
   "cell_type": "code",
   "execution_count": 38,
   "metadata": {},
   "outputs": [
    {
     "name": "stdout",
     "output_type": "stream",
     "text": [
      "3.4338462843824678\n"
     ]
    }
   ],
   "source": [
    "bear1_loc3 = (74.099, -125.188)\n",
    "bear1_loc4 = (74.148, -125.214)\n",
    "print(distance.distance(bear1_loc3, bear1_loc4).miles)"
   ]
  },
  {
   "cell_type": "code",
   "execution_count": 39,
   "metadata": {},
   "outputs": [
    {
     "name": "stdout",
     "output_type": "stream",
     "text": [
      "47.119035437836466\n"
     ]
    }
   ],
   "source": [
    "bear1_loc4 = (74.148, -125.214)\n",
    "bear1_loc5 = (73.470, -125.055)\n",
    "print(distance.distance(bear1_loc4, bear1_loc5).miles)"
   ]
  },
  {
   "cell_type": "code",
   "execution_count": null,
   "metadata": {},
   "outputs": [],
   "source": []
  },
  {
   "cell_type": "code",
   "execution_count": 4,
   "metadata": {},
   "outputs": [],
   "source": [
    "# ids=data[\"BearID_mcp\"].drop_duplicates()\n",
    "# outDict={}\n",
    "# for currId in ids:\n",
    "#     currData=data[data[\"BearID_mcp\"]==currId]\n",
    "#     outDict[currId]=currData.to_dict(orient=\"records\")\n",
    "# with open(\"bears.json\",\"w\") as f:\n",
    "#     json.dump(outDict,f,indent=4)"
   ]
  }
 ],
 "metadata": {
  "kernelspec": {
   "display_name": "Python 3",
   "language": "python",
   "name": "python3"
  },
  "language_info": {
   "codemirror_mode": {
    "name": "ipython",
    "version": 3
   },
   "file_extension": ".py",
   "mimetype": "text/x-python",
   "name": "python",
   "nbconvert_exporter": "python",
   "pygments_lexer": "ipython3",
   "version": "3.7.6"
  }
 },
 "nbformat": 4,
 "nbformat_minor": 4
}
