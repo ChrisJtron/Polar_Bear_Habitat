{
 "cells": [
  {
   "cell_type": "code",
   "execution_count": 1,
   "metadata": {},
   "outputs": [],
   "source": [
    "import pandas as pd\n",
    "import json\n",
    "import geopy.distance\n",
    "import matplotlib.pyplot as plt\n",
    "import numpy as np\n",
    "from datetime import timedelta, date, datetime\n",
    "import math"
   ]
  },
  {
   "cell_type": "code",
   "execution_count": 2,
   "metadata": {},
   "outputs": [],
   "source": [
    "from geopy import distance"
   ]
  },
  {
   "cell_type": "code",
   "execution_count": 3,
   "metadata": {},
   "outputs": [
    {
     "data": {
      "text/html": [
       "<div>\n",
       "<style scoped>\n",
       "    .dataframe tbody tr th:only-of-type {\n",
       "        vertical-align: middle;\n",
       "    }\n",
       "\n",
       "    .dataframe tbody tr th {\n",
       "        vertical-align: top;\n",
       "    }\n",
       "\n",
       "    .dataframe thead th {\n",
       "        text-align: right;\n",
       "    }\n",
       "</style>\n",
       "<table border=\"1\" class=\"dataframe\">\n",
       "  <thead>\n",
       "    <tr style=\"text-align: right;\">\n",
       "      <th></th>\n",
       "      <th>BearID_mcp</th>\n",
       "      <th>DateTimeUTC_mcp</th>\n",
       "      <th>Date</th>\n",
       "      <th>latitude_mcp</th>\n",
       "      <th>longitude_mcp</th>\n",
       "    </tr>\n",
       "  </thead>\n",
       "  <tbody>\n",
       "    <tr>\n",
       "      <th>0</th>\n",
       "      <td>1</td>\n",
       "      <td>5/3/1992 22:12</td>\n",
       "      <td>1992-05-03</td>\n",
       "      <td>74.005</td>\n",
       "      <td>-125.453</td>\n",
       "    </tr>\n",
       "    <tr>\n",
       "      <th>1</th>\n",
       "      <td>1</td>\n",
       "      <td>5/9/1992 23:54</td>\n",
       "      <td>1992-05-09</td>\n",
       "      <td>74.325</td>\n",
       "      <td>-125.857</td>\n",
       "    </tr>\n",
       "    <tr>\n",
       "      <th>2</th>\n",
       "      <td>1</td>\n",
       "      <td>5/24/1992 21:26</td>\n",
       "      <td>1992-05-24</td>\n",
       "      <td>74.099</td>\n",
       "      <td>-125.188</td>\n",
       "    </tr>\n",
       "    <tr>\n",
       "      <th>3</th>\n",
       "      <td>1</td>\n",
       "      <td>5/25/1992 0:18</td>\n",
       "      <td>1992-05-25</td>\n",
       "      <td>74.148</td>\n",
       "      <td>-125.214</td>\n",
       "    </tr>\n",
       "    <tr>\n",
       "      <th>4</th>\n",
       "      <td>1</td>\n",
       "      <td>6/7/1992 23:08</td>\n",
       "      <td>1992-06-07</td>\n",
       "      <td>73.470</td>\n",
       "      <td>-125.055</td>\n",
       "    </tr>\n",
       "    <tr>\n",
       "      <th>...</th>\n",
       "      <td>...</td>\n",
       "      <td>...</td>\n",
       "      <td>...</td>\n",
       "      <td>...</td>\n",
       "      <td>...</td>\n",
       "    </tr>\n",
       "    <tr>\n",
       "      <th>56963</th>\n",
       "      <td>308</td>\n",
       "      <td>6/8/2010 19:03</td>\n",
       "      <td>2010-06-08</td>\n",
       "      <td>72.516</td>\n",
       "      <td>-145.572</td>\n",
       "    </tr>\n",
       "    <tr>\n",
       "      <th>56964</th>\n",
       "      <td>308</td>\n",
       "      <td>6/9/2010 18:44</td>\n",
       "      <td>2010-06-09</td>\n",
       "      <td>72.572</td>\n",
       "      <td>-144.761</td>\n",
       "    </tr>\n",
       "    <tr>\n",
       "      <th>56965</th>\n",
       "      <td>308</td>\n",
       "      <td>6/10/2010 18:21</td>\n",
       "      <td>2010-06-10</td>\n",
       "      <td>72.395</td>\n",
       "      <td>-144.526</td>\n",
       "    </tr>\n",
       "    <tr>\n",
       "      <th>56966</th>\n",
       "      <td>308</td>\n",
       "      <td>6/11/2010 18:52</td>\n",
       "      <td>2010-06-11</td>\n",
       "      <td>72.152</td>\n",
       "      <td>-143.876</td>\n",
       "    </tr>\n",
       "    <tr>\n",
       "      <th>56967</th>\n",
       "      <td>308</td>\n",
       "      <td>6/12/2010 20:22</td>\n",
       "      <td>2010-06-12</td>\n",
       "      <td>71.980</td>\n",
       "      <td>-143.512</td>\n",
       "    </tr>\n",
       "  </tbody>\n",
       "</table>\n",
       "<p>56968 rows × 5 columns</p>\n",
       "</div>"
      ],
      "text/plain": [
       "       BearID_mcp  DateTimeUTC_mcp        Date  latitude_mcp  longitude_mcp\n",
       "0               1   5/3/1992 22:12  1992-05-03        74.005       -125.453\n",
       "1               1   5/9/1992 23:54  1992-05-09        74.325       -125.857\n",
       "2               1  5/24/1992 21:26  1992-05-24        74.099       -125.188\n",
       "3               1   5/25/1992 0:18  1992-05-25        74.148       -125.214\n",
       "4               1   6/7/1992 23:08  1992-06-07        73.470       -125.055\n",
       "...           ...              ...         ...           ...            ...\n",
       "56963         308   6/8/2010 19:03  2010-06-08        72.516       -145.572\n",
       "56964         308   6/9/2010 18:44  2010-06-09        72.572       -144.761\n",
       "56965         308  6/10/2010 18:21  2010-06-10        72.395       -144.526\n",
       "56966         308  6/11/2010 18:52  2010-06-11        72.152       -143.876\n",
       "56967         308  6/12/2010 20:22  2010-06-12        71.980       -143.512\n",
       "\n",
       "[56968 rows x 5 columns]"
      ]
     },
     "execution_count": 3,
     "metadata": {},
     "output_type": "execute_result"
    }
   ],
   "source": [
    "bear_data=pd.read_csv(\"Polar_bear_data.csv\")\n",
    "bear_data\n",
    "# print(bear_data.columns)"
   ]
  },
  {
   "cell_type": "code",
   "execution_count": 4,
   "metadata": {},
   "outputs": [
    {
     "data": {
      "text/plain": [
       "BearID_mcp\n",
       "1        7\n",
       "2       88\n",
       "3      102\n",
       "4       26\n",
       "5      173\n",
       "      ... \n",
       "304    164\n",
       "305     35\n",
       "306    388\n",
       "307     60\n",
       "308     49\n",
       "Name: BearID_mcp, Length: 299, dtype: int64"
      ]
     },
     "execution_count": 4,
     "metadata": {},
     "output_type": "execute_result"
    }
   ],
   "source": [
    "bear_num = bear_data.groupby(['BearID_mcp'])\n",
    "grouped_bears = bear_num['BearID_mcp'].count()\n",
    "grouped_bears"
   ]
  },
  {
   "cell_type": "code",
   "execution_count": 5,
   "metadata": {},
   "outputs": [
    {
     "data": {
      "text/plain": [
       "[32,\n",
       " 281,\n",
       " 7,\n",
       " 52,\n",
       " 144,\n",
       " 302,\n",
       " 89,\n",
       " 160,\n",
       " 50,\n",
       " 139,\n",
       " 114,\n",
       " 129,\n",
       " 207,\n",
       " 135,\n",
       " 204,\n",
       " 38,\n",
       " 213,\n",
       " 294,\n",
       " 250,\n",
       " 179]"
      ]
     },
     "execution_count": 5,
     "metadata": {},
     "output_type": "execute_result"
    }
   ],
   "source": [
    "# df_gb.sort_values, ascending=False).head(20)\n",
    "top_20 = grouped_bears.nlargest(20)\n",
    "top20_bearids = top_20.index.to_list()\n",
    "top20_bearids"
   ]
  },
  {
   "cell_type": "code",
   "execution_count": 6,
   "metadata": {},
   "outputs": [
    {
     "data": {
      "text/plain": [
       "20"
      ]
     },
     "execution_count": 6,
     "metadata": {},
     "output_type": "execute_result"
    }
   ],
   "source": [
    "len(top20_bearids)"
   ]
  },
  {
   "cell_type": "code",
   "execution_count": 7,
   "metadata": {},
   "outputs": [
    {
     "data": {
      "image/png": "[encoded data removed]",
      "text/plain": [
       "<Figure size 432x288 with 1 Axes>"
      ]
     },
     "metadata": {
      "needs_background": "light"
     },
     "output_type": "display_data"
    },
    {
     "data": {
      "text/plain": [
       "<Figure size 432x288 with 0 Axes>"
      ]
     },
     "metadata": {},
     "output_type": "display_data"
    }
   ],
   "source": [
    "top_20 = grouped_bears.nlargest(20)\n",
    "bear_chart = top_20.plot(kind=\"bar\", title=\"Number of Datapoints by Bear (Top 20)\", align=\"center\")\n",
    "bear_chart.set_xlabel('Bear ID')\n",
    "bear_chart.set_ylabel(\"Number of Datapoints by Bear\")\n",
    "# plt.xticks(rotation=45)\n",
    "plt.show()\n",
    "plt.tight_layout()\n",
    "plt.savefig(\"./output_data/bear_datapoints.jpg\")"
   ]
  },
  {
   "cell_type": "code",
   "execution_count": 8,
   "metadata": {},
   "outputs": [],
   "source": [
    "#Find min/max datapoints\n",
    "\n",
    "max_dpts = bear_data[['BearID_mcp','Date']].groupby('BearID_mcp').max()\n",
    "min_dpts =bear_data[['BearID_mcp','Date']].groupby('BearID_mcp').min()"
   ]
  },
  {
   "cell_type": "code",
   "execution_count": 9,
   "metadata": {},
   "outputs": [
    {
     "data": {
      "text/html": [
       "<div>\n",
       "<style scoped>\n",
       "    .dataframe tbody tr th:only-of-type {\n",
       "        vertical-align: middle;\n",
       "    }\n",
       "\n",
       "    .dataframe tbody tr th {\n",
       "        vertical-align: top;\n",
       "    }\n",
       "\n",
       "    .dataframe thead th {\n",
       "        text-align: right;\n",
       "    }\n",
       "</style>\n",
       "<table border=\"1\" class=\"dataframe\">\n",
       "  <thead>\n",
       "    <tr style=\"text-align: right;\">\n",
       "      <th></th>\n",
       "      <th>BearID_mcp</th>\n",
       "      <th>DateTimeUTC_mcp</th>\n",
       "      <th>Date</th>\n",
       "      <th>latitude_mcp</th>\n",
       "      <th>longitude_mcp</th>\n",
       "      <th>First datapoint</th>\n",
       "      <th>Last datapoint</th>\n",
       "    </tr>\n",
       "  </thead>\n",
       "  <tbody>\n",
       "    <tr>\n",
       "      <th>1</th>\n",
       "      <td>1</td>\n",
       "      <td>5/9/1992 23:54</td>\n",
       "      <td>1992-05-09</td>\n",
       "      <td>74.325</td>\n",
       "      <td>-125.857</td>\n",
       "      <td>1992-05-03</td>\n",
       "      <td>1992-06-14</td>\n",
       "    </tr>\n",
       "    <tr>\n",
       "      <th>2</th>\n",
       "      <td>1</td>\n",
       "      <td>5/24/1992 21:26</td>\n",
       "      <td>1992-05-24</td>\n",
       "      <td>74.099</td>\n",
       "      <td>-125.188</td>\n",
       "      <td>1986-05-02</td>\n",
       "      <td>1987-06-18</td>\n",
       "    </tr>\n",
       "    <tr>\n",
       "      <th>3</th>\n",
       "      <td>1</td>\n",
       "      <td>5/25/1992 0:18</td>\n",
       "      <td>1992-05-25</td>\n",
       "      <td>74.148</td>\n",
       "      <td>-125.214</td>\n",
       "      <td>1989-11-03</td>\n",
       "      <td>1990-05-25</td>\n",
       "    </tr>\n",
       "    <tr>\n",
       "      <th>4</th>\n",
       "      <td>1</td>\n",
       "      <td>6/7/1992 23:08</td>\n",
       "      <td>1992-06-07</td>\n",
       "      <td>73.470</td>\n",
       "      <td>-125.055</td>\n",
       "      <td>1991-04-09</td>\n",
       "      <td>1991-05-05</td>\n",
       "    </tr>\n",
       "    <tr>\n",
       "      <th>5</th>\n",
       "      <td>1</td>\n",
       "      <td>6/13/1992 21:57</td>\n",
       "      <td>1992-06-13</td>\n",
       "      <td>73.450</td>\n",
       "      <td>-125.002</td>\n",
       "      <td>1985-05-12</td>\n",
       "      <td>1987-04-04</td>\n",
       "    </tr>\n",
       "    <tr>\n",
       "      <th>...</th>\n",
       "      <td>...</td>\n",
       "      <td>...</td>\n",
       "      <td>...</td>\n",
       "      <td>...</td>\n",
       "      <td>...</td>\n",
       "      <td>...</td>\n",
       "      <td>...</td>\n",
       "    </tr>\n",
       "    <tr>\n",
       "      <th>304</th>\n",
       "      <td>5</td>\n",
       "      <td>9/11/1985 0:21</td>\n",
       "      <td>1985-09-11</td>\n",
       "      <td>71.990</td>\n",
       "      <td>-148.570</td>\n",
       "      <td>2009-05-09</td>\n",
       "      <td>2009-10-19</td>\n",
       "    </tr>\n",
       "    <tr>\n",
       "      <th>305</th>\n",
       "      <td>5</td>\n",
       "      <td>9/12/1985 1:56</td>\n",
       "      <td>1985-09-12</td>\n",
       "      <td>71.990</td>\n",
       "      <td>-148.566</td>\n",
       "      <td>2009-08-21</td>\n",
       "      <td>2009-10-03</td>\n",
       "    </tr>\n",
       "    <tr>\n",
       "      <th>306</th>\n",
       "      <td>5</td>\n",
       "      <td>9/13/1985 0:04</td>\n",
       "      <td>1985-09-13</td>\n",
       "      <td>72.084</td>\n",
       "      <td>-148.581</td>\n",
       "      <td>2006-04-04</td>\n",
       "      <td>2008-06-22</td>\n",
       "    </tr>\n",
       "    <tr>\n",
       "      <th>307</th>\n",
       "      <td>5</td>\n",
       "      <td>9/14/1985 22:01</td>\n",
       "      <td>1985-09-14</td>\n",
       "      <td>72.219</td>\n",
       "      <td>-148.867</td>\n",
       "      <td>2016-04-22</td>\n",
       "      <td>2016-06-20</td>\n",
       "    </tr>\n",
       "    <tr>\n",
       "      <th>308</th>\n",
       "      <td>5</td>\n",
       "      <td>9/16/1985 23:22</td>\n",
       "      <td>1985-09-16</td>\n",
       "      <td>72.168</td>\n",
       "      <td>-148.605</td>\n",
       "      <td>2010-04-25</td>\n",
       "      <td>2010-06-12</td>\n",
       "    </tr>\n",
       "  </tbody>\n",
       "</table>\n",
       "<p>299 rows × 7 columns</p>\n",
       "</div>"
      ],
      "text/plain": [
       "     BearID_mcp  DateTimeUTC_mcp        Date  latitude_mcp  longitude_mcp  \\\n",
       "1             1   5/9/1992 23:54  1992-05-09        74.325       -125.857   \n",
       "2             1  5/24/1992 21:26  1992-05-24        74.099       -125.188   \n",
       "3             1   5/25/1992 0:18  1992-05-25        74.148       -125.214   \n",
       "4             1   6/7/1992 23:08  1992-06-07        73.470       -125.055   \n",
       "5             1  6/13/1992 21:57  1992-06-13        73.450       -125.002   \n",
       "..          ...              ...         ...           ...            ...   \n",
       "304           5   9/11/1985 0:21  1985-09-11        71.990       -148.570   \n",
       "305           5   9/12/1985 1:56  1985-09-12        71.990       -148.566   \n",
       "306           5   9/13/1985 0:04  1985-09-13        72.084       -148.581   \n",
       "307           5  9/14/1985 22:01  1985-09-14        72.219       -148.867   \n",
       "308           5  9/16/1985 23:22  1985-09-16        72.168       -148.605   \n",
       "\n",
       "    First datapoint Last datapoint  \n",
       "1        1992-05-03     1992-06-14  \n",
       "2        1986-05-02     1987-06-18  \n",
       "3        1989-11-03     1990-05-25  \n",
       "4        1991-04-09     1991-05-05  \n",
       "5        1985-05-12     1987-04-04  \n",
       "..              ...            ...  \n",
       "304      2009-05-09     2009-10-19  \n",
       "305      2009-08-21     2009-10-03  \n",
       "306      2006-04-04     2008-06-22  \n",
       "307      2016-04-22     2016-06-20  \n",
       "308      2010-04-25     2010-06-12  \n",
       "\n",
       "[299 rows x 7 columns]"
      ]
     },
     "execution_count": 9,
     "metadata": {},
     "output_type": "execute_result"
    }
   ],
   "source": [
    "#Create new columns for first/last datapoints and dropna's\n",
    "\n",
    "bear_data['First datapoint'] = pd.to_datetime(min_dpts['Date'])\n",
    "bear_data['Last datapoint'] = pd.to_datetime(max_dpts['Date'])\n",
    "\n",
    "clean_bear = bear_data.dropna()\n",
    "clean_bear"
   ]
  },
  {
   "cell_type": "code",
   "execution_count": 10,
   "metadata": {},
   "outputs": [
    {
     "data": {
      "text/plain": [
       "BearID_mcp                  int64\n",
       "DateTimeUTC_mcp            object\n",
       "Date                       object\n",
       "latitude_mcp              float64\n",
       "longitude_mcp             float64\n",
       "First datapoint    datetime64[ns]\n",
       "Last datapoint     datetime64[ns]\n",
       "dtype: object"
      ]
     },
     "execution_count": 10,
     "metadata": {},
     "output_type": "execute_result"
    }
   ],
   "source": [
    "clean_bear.dtypes"
   ]
  },
  {
   "cell_type": "code",
   "execution_count": null,
   "metadata": {},
   "outputs": [],
   "source": [
    "# (top_20['Last datapoint'].dt.date - top_20['First datapoint'].dt.date).dt.days"
   ]
  },
  {
   "cell_type": "code",
   "execution_count": 11,
   "metadata": {},
   "outputs": [
    {
     "data": {
      "text/plain": [
       "1       42\n",
       "2      412\n",
       "3      203\n",
       "4       26\n",
       "5      692\n",
       "      ... \n",
       "304    163\n",
       "305     43\n",
       "306    810\n",
       "307     59\n",
       "308     48\n",
       "Length: 299, dtype: int64"
      ]
     },
     "execution_count": 11,
     "metadata": {},
     "output_type": "execute_result"
    }
   ],
   "source": [
    "#Bear 32 - 6728 days,?? started 1988-89, then restarted 2004 /  Bear# 281 - 1293 days\n",
    "\n",
    "# days_observ = (clean_bear['Last datapoint'].dt.date - clean_bear['First datapoint'].dt.date).dt.days.nlargest(20)\n",
    "days_observ = (clean_bear['Last datapoint'].dt.date - clean_bear['First datapoint'].dt.date).dt.days\n",
    "days_observ"
   ]
  },
  {
   "cell_type": "code",
   "execution_count": 12,
   "metadata": {},
   "outputs": [
    {
     "data": {
      "text/plain": [
       "6729"
      ]
     },
     "execution_count": 12,
     "metadata": {},
     "output_type": "execute_result"
    }
   ],
   "source": [
    "days_observ[top20_bearids[0]]"
   ]
  },
  {
   "cell_type": "code",
   "execution_count": 13,
   "metadata": {},
   "outputs": [
    {
     "data": {
      "text/plain": [
       "32"
      ]
     },
     "execution_count": 13,
     "metadata": {},
     "output_type": "execute_result"
    }
   ],
   "source": [
    "top20_bearids[0]"
   ]
  },
  {
   "cell_type": "code",
   "execution_count": 14,
   "metadata": {},
   "outputs": [
    {
     "data": {
      "text/plain": [
       "[[32, 6729],\n",
       " [281, 1294],\n",
       " [7, 4134],\n",
       " [52, 5821],\n",
       " [144, 3164],\n",
       " [302, 1849],\n",
       " [89, 1608],\n",
       " [160, 1541],\n",
       " [50, 3929],\n",
       " [139, 5117],\n",
       " [114, 1189],\n",
       " [129, 1882],\n",
       " [207, 877],\n",
       " [135, 881],\n",
       " [204, 582],\n",
       " [38, 3795],\n",
       " [213, 845],\n",
       " [294, 762],\n",
       " [250, 2228],\n",
       " [179, 2261]]"
      ]
     },
     "execution_count": 14,
     "metadata": {},
     "output_type": "execute_result"
    }
   ],
   "source": [
    "top20_daysobser = []\n",
    "\n",
    "for i in top20_bearids:\n",
    "    d= days_observ[i]\n",
    "    top20_daysobser.append([i, d])\n",
    "    \n",
    "top20_daysobser"
   ]
  },
  {
   "cell_type": "code",
   "execution_count": 15,
   "metadata": {},
   "outputs": [
    {
     "data": {
      "text/html": [
       "<div>\n",
       "<style scoped>\n",
       "    .dataframe tbody tr th:only-of-type {\n",
       "        vertical-align: middle;\n",
       "    }\n",
       "\n",
       "    .dataframe tbody tr th {\n",
       "        vertical-align: top;\n",
       "    }\n",
       "\n",
       "    .dataframe thead th {\n",
       "        text-align: right;\n",
       "    }\n",
       "</style>\n",
       "<table border=\"1\" class=\"dataframe\">\n",
       "  <thead>\n",
       "    <tr style=\"text-align: right;\">\n",
       "      <th></th>\n",
       "      <th>Days Observ</th>\n",
       "    </tr>\n",
       "    <tr>\n",
       "      <th>Bear Id</th>\n",
       "      <th></th>\n",
       "    </tr>\n",
       "  </thead>\n",
       "  <tbody>\n",
       "    <tr>\n",
       "      <th>32</th>\n",
       "      <td>6729</td>\n",
       "    </tr>\n",
       "    <tr>\n",
       "      <th>281</th>\n",
       "      <td>1294</td>\n",
       "    </tr>\n",
       "    <tr>\n",
       "      <th>7</th>\n",
       "      <td>4134</td>\n",
       "    </tr>\n",
       "    <tr>\n",
       "      <th>52</th>\n",
       "      <td>5821</td>\n",
       "    </tr>\n",
       "    <tr>\n",
       "      <th>144</th>\n",
       "      <td>3164</td>\n",
       "    </tr>\n",
       "    <tr>\n",
       "      <th>302</th>\n",
       "      <td>1849</td>\n",
       "    </tr>\n",
       "    <tr>\n",
       "      <th>89</th>\n",
       "      <td>1608</td>\n",
       "    </tr>\n",
       "    <tr>\n",
       "      <th>160</th>\n",
       "      <td>1541</td>\n",
       "    </tr>\n",
       "    <tr>\n",
       "      <th>50</th>\n",
       "      <td>3929</td>\n",
       "    </tr>\n",
       "    <tr>\n",
       "      <th>139</th>\n",
       "      <td>5117</td>\n",
       "    </tr>\n",
       "    <tr>\n",
       "      <th>114</th>\n",
       "      <td>1189</td>\n",
       "    </tr>\n",
       "    <tr>\n",
       "      <th>129</th>\n",
       "      <td>1882</td>\n",
       "    </tr>\n",
       "    <tr>\n",
       "      <th>207</th>\n",
       "      <td>877</td>\n",
       "    </tr>\n",
       "    <tr>\n",
       "      <th>135</th>\n",
       "      <td>881</td>\n",
       "    </tr>\n",
       "    <tr>\n",
       "      <th>204</th>\n",
       "      <td>582</td>\n",
       "    </tr>\n",
       "    <tr>\n",
       "      <th>38</th>\n",
       "      <td>3795</td>\n",
       "    </tr>\n",
       "    <tr>\n",
       "      <th>213</th>\n",
       "      <td>845</td>\n",
       "    </tr>\n",
       "    <tr>\n",
       "      <th>294</th>\n",
       "      <td>762</td>\n",
       "    </tr>\n",
       "    <tr>\n",
       "      <th>250</th>\n",
       "      <td>2228</td>\n",
       "    </tr>\n",
       "    <tr>\n",
       "      <th>179</th>\n",
       "      <td>2261</td>\n",
       "    </tr>\n",
       "  </tbody>\n",
       "</table>\n",
       "</div>"
      ],
      "text/plain": [
       "         Days Observ\n",
       "Bear Id             \n",
       "32              6729\n",
       "281             1294\n",
       "7               4134\n",
       "52              5821\n",
       "144             3164\n",
       "302             1849\n",
       "89              1608\n",
       "160             1541\n",
       "50              3929\n",
       "139             5117\n",
       "114             1189\n",
       "129             1882\n",
       "207              877\n",
       "135              881\n",
       "204              582\n",
       "38              3795\n",
       "213              845\n",
       "294              762\n",
       "250             2228\n",
       "179             2261"
      ]
     },
     "execution_count": 15,
     "metadata": {},
     "output_type": "execute_result"
    }
   ],
   "source": [
    "df = pd.DataFrame(top20_daysobser)\n",
    "df.columns= [\"Bear Id\", \"Days Observ\"]\n",
    "df.index = df[\"Bear Id\"]\n",
    "del df[\"Bear Id\"]\n",
    "df"
   ]
  },
  {
   "cell_type": "code",
   "execution_count": 16,
   "metadata": {},
   "outputs": [
    {
     "data": {
      "image/png": "[encoded data removed]",
      "text/plain": [
       "<Figure size 432x288 with 1 Axes>"
      ]
     },
     "metadata": {
      "needs_background": "light"
     },
     "output_type": "display_data"
    },
    {
     "data": {
      "text/plain": [
       "<Figure size 432x288 with 0 Axes>"
      ]
     },
     "metadata": {},
     "output_type": "display_data"
    }
   ],
   "source": [
    "#  CODE for top 20 bears number of days datapoints were recorded\n",
    "\n",
    "days_tracked = df.plot(kind=\"bar\", color= \"purple\", title=\"Number of Days Tracked per Bear (Top 20)\", align=\"center\")\n",
    "days_tracked.set_xlabel('Bear ID')\n",
    "days_tracked.set_ylabel(\"Number of Days\")\n",
    "# plt.xticks(rotation=45)\n",
    "plt.show()\n",
    "plt.tight_layout()\n",
    "plt.savefig(\"./output_data/days_tracked.png\")"
   ]
  },
  {
   "cell_type": "code",
   "execution_count": 17,
   "metadata": {},
   "outputs": [
    {
     "data": {
      "text/html": [
       "<div>\n",
       "<style scoped>\n",
       "    .dataframe tbody tr th:only-of-type {\n",
       "        vertical-align: middle;\n",
       "    }\n",
       "\n",
       "    .dataframe tbody tr th {\n",
       "        vertical-align: top;\n",
       "    }\n",
       "\n",
       "    .dataframe thead th {\n",
       "        text-align: right;\n",
       "    }\n",
       "</style>\n",
       "<table border=\"1\" class=\"dataframe\">\n",
       "  <thead>\n",
       "    <tr style=\"text-align: right;\">\n",
       "      <th></th>\n",
       "      <th>Date</th>\n",
       "    </tr>\n",
       "    <tr>\n",
       "      <th>BearID_mcp</th>\n",
       "      <th></th>\n",
       "    </tr>\n",
       "  </thead>\n",
       "  <tbody>\n",
       "    <tr>\n",
       "      <th>1</th>\n",
       "      <td>1992-05-03</td>\n",
       "    </tr>\n",
       "    <tr>\n",
       "      <th>2</th>\n",
       "      <td>1986-05-02</td>\n",
       "    </tr>\n",
       "    <tr>\n",
       "      <th>3</th>\n",
       "      <td>1989-11-03</td>\n",
       "    </tr>\n",
       "    <tr>\n",
       "      <th>4</th>\n",
       "      <td>1991-04-09</td>\n",
       "    </tr>\n",
       "    <tr>\n",
       "      <th>5</th>\n",
       "      <td>1985-05-12</td>\n",
       "    </tr>\n",
       "    <tr>\n",
       "      <th>...</th>\n",
       "      <td>...</td>\n",
       "    </tr>\n",
       "    <tr>\n",
       "      <th>304</th>\n",
       "      <td>2009-05-09</td>\n",
       "    </tr>\n",
       "    <tr>\n",
       "      <th>305</th>\n",
       "      <td>2009-08-21</td>\n",
       "    </tr>\n",
       "    <tr>\n",
       "      <th>306</th>\n",
       "      <td>2006-04-04</td>\n",
       "    </tr>\n",
       "    <tr>\n",
       "      <th>307</th>\n",
       "      <td>2016-04-22</td>\n",
       "    </tr>\n",
       "    <tr>\n",
       "      <th>308</th>\n",
       "      <td>2010-04-25</td>\n",
       "    </tr>\n",
       "  </tbody>\n",
       "</table>\n",
       "<p>299 rows × 1 columns</p>\n",
       "</div>"
      ],
      "text/plain": [
       "                  Date\n",
       "BearID_mcp            \n",
       "1           1992-05-03\n",
       "2           1986-05-02\n",
       "3           1989-11-03\n",
       "4           1991-04-09\n",
       "5           1985-05-12\n",
       "...                ...\n",
       "304         2009-05-09\n",
       "305         2009-08-21\n",
       "306         2006-04-04\n",
       "307         2016-04-22\n",
       "308         2010-04-25\n",
       "\n",
       "[299 rows x 1 columns]"
      ]
     },
     "execution_count": 17,
     "metadata": {},
     "output_type": "execute_result"
    }
   ],
   "source": [
    "min_dpts"
   ]
  },
  {
   "cell_type": "code",
   "execution_count": 18,
   "metadata": {},
   "outputs": [],
   "source": [
    "## BEAR DISTANCE TRAVELED SECTION"
   ]
  },
  {
   "cell_type": "code",
   "execution_count": 19,
   "metadata": {},
   "outputs": [
    {
     "name": "stdout",
     "output_type": "stream",
     "text": [
      "94.15484964649286\n"
     ]
    }
   ],
   "source": [
    "bear1_loc = (74.005, -125.453)\n",
    "bear1_loc2 = (74.325, -125.857)\n",
    "bear1_loc3 = (74.099, -125.188)\n",
    "bear1_loc4 = (74.148, -125.214)\n",
    "bear1_loc5 = (73.470, -125.055)\n",
    "\n",
    "print(distance.distance(bear1_loc, bear1_loc2, bear1_loc3, bear1_loc4, bear1_loc5).miles)"
   ]
  },
  {
   "cell_type": "code",
   "execution_count": 20,
   "metadata": {},
   "outputs": [
    {
     "name": "stdout",
     "output_type": "stream",
     "text": [
      "23.473465060459073\n"
     ]
    }
   ],
   "source": [
    "# check calculation 1\n",
    "bear1_loc = (74.005, -125.453)\n",
    "bear1_loc2 = (74.325, -125.857)\n",
    "print(distance.distance(bear1_loc, bear1_loc2).miles)"
   ]
  },
  {
   "cell_type": "code",
   "execution_count": 21,
   "metadata": {},
   "outputs": [
    {
     "name": "stdout",
     "output_type": "stream",
     "text": [
      "20.128502863814866\n"
     ]
    }
   ],
   "source": [
    "# check calculation 2\n",
    "bear1_loc2 = (74.325, -125.857)\n",
    "bear1_loc3 = (74.099, -125.188)\n",
    "print(distance.distance(bear1_loc2, bear1_loc3).miles)"
   ]
  },
  {
   "cell_type": "code",
   "execution_count": 22,
   "metadata": {},
   "outputs": [
    {
     "name": "stdout",
     "output_type": "stream",
     "text": [
      "3.4338462843824678\n"
     ]
    }
   ],
   "source": [
    "# check calculation 3\n",
    "bear1_loc3 = (74.099, -125.188)\n",
    "bear1_loc4 = (74.148, -125.214)\n",
    "print(distance.distance(bear1_loc3, bear1_loc4).miles)"
   ]
  },
  {
   "cell_type": "code",
   "execution_count": 23,
   "metadata": {},
   "outputs": [
    {
     "name": "stdout",
     "output_type": "stream",
     "text": [
      "47.119035437836466\n"
     ]
    }
   ],
   "source": [
    "# check calculation 4\n",
    "bear1_loc4 = (74.148, -125.214)\n",
    "bear1_loc5 = (73.470, -125.055)\n",
    "print(distance.distance(bear1_loc4, bear1_loc5).miles)"
   ]
  },
  {
   "cell_type": "code",
   "execution_count": 24,
   "metadata": {},
   "outputs": [
    {
     "data": {
      "text/html": [
       "<div>\n",
       "<style scoped>\n",
       "    .dataframe tbody tr th:only-of-type {\n",
       "        vertical-align: middle;\n",
       "    }\n",
       "\n",
       "    .dataframe tbody tr th {\n",
       "        vertical-align: top;\n",
       "    }\n",
       "\n",
       "    .dataframe thead th {\n",
       "        text-align: right;\n",
       "    }\n",
       "</style>\n",
       "<table border=\"1\" class=\"dataframe\">\n",
       "  <thead>\n",
       "    <tr style=\"text-align: right;\">\n",
       "      <th></th>\n",
       "      <th>BearID_mcp</th>\n",
       "      <th>DateTimeUTC_mcp</th>\n",
       "      <th>Date</th>\n",
       "      <th>latitude_mcp</th>\n",
       "      <th>longitude_mcp</th>\n",
       "    </tr>\n",
       "  </thead>\n",
       "  <tbody>\n",
       "    <tr>\n",
       "      <th>0</th>\n",
       "      <td>1</td>\n",
       "      <td>5/3/1992 22:12</td>\n",
       "      <td>1992-05-03</td>\n",
       "      <td>74.005</td>\n",
       "      <td>-125.453</td>\n",
       "    </tr>\n",
       "    <tr>\n",
       "      <th>1</th>\n",
       "      <td>1</td>\n",
       "      <td>5/9/1992 23:54</td>\n",
       "      <td>1992-05-09</td>\n",
       "      <td>74.325</td>\n",
       "      <td>-125.857</td>\n",
       "    </tr>\n",
       "    <tr>\n",
       "      <th>2</th>\n",
       "      <td>1</td>\n",
       "      <td>5/24/1992 21:26</td>\n",
       "      <td>1992-05-24</td>\n",
       "      <td>74.099</td>\n",
       "      <td>-125.188</td>\n",
       "    </tr>\n",
       "    <tr>\n",
       "      <th>3</th>\n",
       "      <td>1</td>\n",
       "      <td>5/25/1992 0:18</td>\n",
       "      <td>1992-05-25</td>\n",
       "      <td>74.148</td>\n",
       "      <td>-125.214</td>\n",
       "    </tr>\n",
       "    <tr>\n",
       "      <th>4</th>\n",
       "      <td>1</td>\n",
       "      <td>6/7/1992 23:08</td>\n",
       "      <td>1992-06-07</td>\n",
       "      <td>73.470</td>\n",
       "      <td>-125.055</td>\n",
       "    </tr>\n",
       "  </tbody>\n",
       "</table>\n",
       "</div>"
      ],
      "text/plain": [
       "   BearID_mcp  DateTimeUTC_mcp        Date  latitude_mcp  longitude_mcp\n",
       "0           1   5/3/1992 22:12  1992-05-03        74.005       -125.453\n",
       "1           1   5/9/1992 23:54  1992-05-09        74.325       -125.857\n",
       "2           1  5/24/1992 21:26  1992-05-24        74.099       -125.188\n",
       "3           1   5/25/1992 0:18  1992-05-25        74.148       -125.214\n",
       "4           1   6/7/1992 23:08  1992-06-07        73.470       -125.055"
      ]
     },
     "execution_count": 24,
     "metadata": {},
     "output_type": "execute_result"
    }
   ],
   "source": [
    "brooke_data=pd.read_csv(\"Polar_bear_data.csv\")\n",
    "brooke_data.head()"
   ]
  },
  {
   "cell_type": "code",
   "execution_count": 25,
   "metadata": {},
   "outputs": [
    {
     "data": {
      "text/plain": [
       "(56968, 5)"
      ]
     },
     "execution_count": 25,
     "metadata": {},
     "output_type": "execute_result"
    }
   ],
   "source": [
    "brooke_data.shape"
   ]
  },
  {
   "cell_type": "code",
   "execution_count": 58,
   "metadata": {},
   "outputs": [
    {
     "ename": "TypeError",
     "evalue": "unsupported operand type(s) for +=: 'int' and 'tuple'",
     "output_type": "error",
     "traceback": [
      "\u001b[1;31m---------------------------------------------------------------------------\u001b[0m",
      "\u001b[1;31mTypeError\u001b[0m                                 Traceback (most recent call last)",
      "\u001b[1;32m<ipython-input-58-b0174af176f6>\u001b[0m in \u001b[0;36m<module>\u001b[1;34m\u001b[0m\n\u001b[0;32m     11\u001b[0m     \u001b[1;32mfor\u001b[0m \u001b[0midc\u001b[0m\u001b[1;33m,\u001b[0m \u001b[0meach_row\u001b[0m \u001b[1;32min\u001b[0m \u001b[0mone_bear\u001b[0m\u001b[1;33m.\u001b[0m\u001b[0miterrows\u001b[0m\u001b[1;33m(\u001b[0m\u001b[1;33m)\u001b[0m\u001b[1;33m:\u001b[0m\u001b[1;33m\u001b[0m\u001b[1;33m\u001b[0m\u001b[0m\n\u001b[0;32m     12\u001b[0m         \u001b[0mbear_path\u001b[0m\u001b[1;33m.\u001b[0m\u001b[0mappend\u001b[0m\u001b[1;33m(\u001b[0m\u001b[1;33m(\u001b[0m\u001b[0mfloat\u001b[0m\u001b[1;33m(\u001b[0m\u001b[0meach_row\u001b[0m\u001b[1;33m[\u001b[0m\u001b[1;34m'latitude_mcp'\u001b[0m\u001b[1;33m]\u001b[0m\u001b[1;33m)\u001b[0m\u001b[1;33m,\u001b[0m \u001b[0mfloat\u001b[0m\u001b[1;33m(\u001b[0m\u001b[0meach_row\u001b[0m\u001b[1;33m[\u001b[0m\u001b[1;34m'longitude_mcp'\u001b[0m\u001b[1;33m]\u001b[0m\u001b[1;33m)\u001b[0m\u001b[1;33m)\u001b[0m\u001b[1;33m)\u001b[0m\u001b[1;33m\u001b[0m\u001b[1;33m\u001b[0m\u001b[0m\n\u001b[1;32m---> 13\u001b[1;33m         \u001b[0mdis_trav\u001b[0m\u001b[1;33m=\u001b[0m \u001b[0mbear_path\u001b[0m\u001b[1;33m(\u001b[0m\u001b[1;33m[\u001b[0m\u001b[0mdistance\u001b[0m\u001b[1;33m.\u001b[0m\u001b[0mdistance\u001b[0m\u001b[1;33m(\u001b[0m\u001b[1;33m*\u001b[0m\u001b[0mbear_path\u001b[0m\u001b[1;33m)\u001b[0m\u001b[1;33m.\u001b[0m\u001b[0mmiles\u001b[0m\u001b[1;33m]\u001b[0m\u001b[1;33m)\u001b[0m\u001b[1;33m\u001b[0m\u001b[1;33m\u001b[0m\u001b[0m\n\u001b[0m\u001b[0;32m     14\u001b[0m         \u001b[0mbear_dis\u001b[0m\u001b[1;33m.\u001b[0m\u001b[0mappend\u001b[0m\u001b[1;33m(\u001b[0m\u001b[0mone_bear\u001b[0m\u001b[1;33m)\u001b[0m\u001b[1;33m\u001b[0m\u001b[1;33m\u001b[0m\u001b[0m\n\u001b[0;32m     15\u001b[0m \u001b[1;31m#     print(f'bear {each_bear} traveled {distance.distance(*bear_path).miles} miles')\u001b[0m\u001b[1;33m\u001b[0m\u001b[1;33m\u001b[0m\u001b[1;33m\u001b[0m\u001b[0m\n",
      "\u001b[1;32m~\\anaconda3\\lib\\site-packages\\geopy\\distance.py\u001b[0m in \u001b[0;36m__init__\u001b[1;34m(self, *args, **kwargs)\u001b[0m\n\u001b[0;32m    416\u001b[0m         \u001b[0mself\u001b[0m\u001b[1;33m.\u001b[0m\u001b[0mset_ellipsoid\u001b[0m\u001b[1;33m(\u001b[0m\u001b[0mkwargs\u001b[0m\u001b[1;33m.\u001b[0m\u001b[0mpop\u001b[0m\u001b[1;33m(\u001b[0m\u001b[1;34m'ellipsoid'\u001b[0m\u001b[1;33m,\u001b[0m \u001b[1;34m'WGS-84'\u001b[0m\u001b[1;33m)\u001b[0m\u001b[1;33m)\u001b[0m\u001b[1;33m\u001b[0m\u001b[1;33m\u001b[0m\u001b[0m\n\u001b[0;32m    417\u001b[0m         \u001b[0mmajor\u001b[0m\u001b[1;33m,\u001b[0m \u001b[0mminor\u001b[0m\u001b[1;33m,\u001b[0m \u001b[0mf\u001b[0m \u001b[1;33m=\u001b[0m \u001b[0mself\u001b[0m\u001b[1;33m.\u001b[0m\u001b[0mELLIPSOID\u001b[0m\u001b[1;33m\u001b[0m\u001b[1;33m\u001b[0m\u001b[0m\n\u001b[1;32m--> 418\u001b[1;33m         \u001b[0msuper\u001b[0m\u001b[1;33m(\u001b[0m\u001b[1;33m)\u001b[0m\u001b[1;33m.\u001b[0m\u001b[0m__init__\u001b[0m\u001b[1;33m(\u001b[0m\u001b[1;33m*\u001b[0m\u001b[0margs\u001b[0m\u001b[1;33m,\u001b[0m \u001b[1;33m**\u001b[0m\u001b[0mkwargs\u001b[0m\u001b[1;33m)\u001b[0m\u001b[1;33m\u001b[0m\u001b[1;33m\u001b[0m\u001b[0m\n\u001b[0m\u001b[0;32m    419\u001b[0m \u001b[1;33m\u001b[0m\u001b[0m\n\u001b[0;32m    420\u001b[0m     \u001b[1;32mdef\u001b[0m \u001b[0mset_ellipsoid\u001b[0m\u001b[1;33m(\u001b[0m\u001b[0mself\u001b[0m\u001b[1;33m,\u001b[0m \u001b[0mellipsoid\u001b[0m\u001b[1;33m)\u001b[0m\u001b[1;33m:\u001b[0m\u001b[1;33m\u001b[0m\u001b[1;33m\u001b[0m\u001b[0m\n",
      "\u001b[1;32m~\\anaconda3\\lib\\site-packages\\geopy\\distance.py\u001b[0m in \u001b[0;36m__init__\u001b[1;34m(self, *args, **kwargs)\u001b[0m\n\u001b[0;32m    196\u001b[0m             \u001b[1;31m# it's a known distance instead of\u001b[0m\u001b[1;33m\u001b[0m\u001b[1;33m\u001b[0m\u001b[1;33m\u001b[0m\u001b[0m\n\u001b[0;32m    197\u001b[0m             \u001b[1;31m# calculating it first\u001b[0m\u001b[1;33m\u001b[0m\u001b[1;33m\u001b[0m\u001b[1;33m\u001b[0m\u001b[0m\n\u001b[1;32m--> 198\u001b[1;33m             \u001b[0mkilometers\u001b[0m \u001b[1;33m+=\u001b[0m \u001b[0margs\u001b[0m\u001b[1;33m[\u001b[0m\u001b[1;36m0\u001b[0m\u001b[1;33m]\u001b[0m\u001b[1;33m\u001b[0m\u001b[1;33m\u001b[0m\u001b[0m\n\u001b[0m\u001b[0;32m    199\u001b[0m         \u001b[1;32melif\u001b[0m \u001b[0mlen\u001b[0m\u001b[1;33m(\u001b[0m\u001b[0margs\u001b[0m\u001b[1;33m)\u001b[0m \u001b[1;33m>\u001b[0m \u001b[1;36m1\u001b[0m\u001b[1;33m:\u001b[0m\u001b[1;33m\u001b[0m\u001b[1;33m\u001b[0m\u001b[0m\n\u001b[0;32m    200\u001b[0m             \u001b[1;32mfor\u001b[0m \u001b[0ma\u001b[0m\u001b[1;33m,\u001b[0m \u001b[0mb\u001b[0m \u001b[1;32min\u001b[0m \u001b[0mutil\u001b[0m\u001b[1;33m.\u001b[0m\u001b[0mpairwise\u001b[0m\u001b[1;33m(\u001b[0m\u001b[0margs\u001b[0m\u001b[1;33m)\u001b[0m\u001b[1;33m:\u001b[0m\u001b[1;33m\u001b[0m\u001b[1;33m\u001b[0m\u001b[0m\n",
      "\u001b[1;31mTypeError\u001b[0m: unsupported operand type(s) for +=: 'int' and 'tuple'"
     ]
    }
   ],
   "source": [
    "bears=brooke_data['BearID_mcp'].unique()\n",
    "bear_data = []\n",
    "\n",
    "\n",
    "for each_bear in bears: \n",
    "    one_bear=brooke_data[brooke_data['BearID_mcp']==each_bear]\n",
    "#     dis_trav= bear_data(distance.distance(bear_path).miles)\n",
    "    # distance.distance([(lat, lon), (lat, lon)]).miles\n",
    "    bear_path=[]\n",
    "    bear_dis=[]\n",
    "    for idc, each_row in one_bear.iterrows(): \n",
    "        bear_path.append((float(each_row['latitude_mcp']), float(each_row['longitude_mcp'])))\n",
    "        dis_trav= bear_path([distance.distance(*bear_path).miles])\n",
    "        bear_dis.append(one_bear)\n",
    "#     print(f'bear {each_bear} traveled {distance.distance(*bear_path).miles} miles')"
   ]
  },
  {
   "cell_type": "code",
   "execution_count": 51,
   "metadata": {},
   "outputs": [
    {
     "ename": "TypeError",
     "evalue": "unsupported operand type(s) for +=: 'int' and 'tuple'",
     "output_type": "error",
     "traceback": [
      "\u001b[1;31m---------------------------------------------------------------------------\u001b[0m",
      "\u001b[1;31mTypeError\u001b[0m                                 Traceback (most recent call last)",
      "\u001b[1;32m<ipython-input-51-3ca077fd68dc>\u001b[0m in \u001b[0;36m<module>\u001b[1;34m\u001b[0m\n\u001b[0;32m      2\u001b[0m \u001b[1;33m\u001b[0m\u001b[0m\n\u001b[0;32m      3\u001b[0m \u001b[1;32mfor\u001b[0m \u001b[0mi\u001b[0m \u001b[1;32min\u001b[0m \u001b[0mtop20_bearids\u001b[0m\u001b[1;33m:\u001b[0m\u001b[1;33m\u001b[0m\u001b[1;33m\u001b[0m\u001b[0m\n\u001b[1;32m----> 4\u001b[1;33m     \u001b[0md\u001b[0m\u001b[1;33m=\u001b[0m \u001b[0mbear_path\u001b[0m\u001b[1;33m(\u001b[0m\u001b[0mdistance\u001b[0m\u001b[1;33m.\u001b[0m\u001b[0mdistance\u001b[0m\u001b[1;33m(\u001b[0m\u001b[1;33m*\u001b[0m\u001b[0mbear_path\u001b[0m\u001b[1;33m)\u001b[0m\u001b[1;33m.\u001b[0m\u001b[0mmiles\u001b[0m\u001b[1;33m)\u001b[0m\u001b[1;33m[\u001b[0m\u001b[0mi\u001b[0m\u001b[1;33m]\u001b[0m\u001b[1;33m\u001b[0m\u001b[1;33m\u001b[0m\u001b[0m\n\u001b[0m\u001b[0;32m      5\u001b[0m     \u001b[0mmiles_trav\u001b[0m\u001b[1;33m.\u001b[0m\u001b[0mappend\u001b[0m\u001b[1;33m(\u001b[0m\u001b[1;33m[\u001b[0m\u001b[0mi\u001b[0m\u001b[1;33m,\u001b[0m \u001b[0md\u001b[0m\u001b[1;33m]\u001b[0m\u001b[1;33m)\u001b[0m\u001b[1;33m\u001b[0m\u001b[1;33m\u001b[0m\u001b[0m\n\u001b[0;32m      6\u001b[0m \u001b[1;33m\u001b[0m\u001b[0m\n",
      "\u001b[1;32m~\\anaconda3\\lib\\site-packages\\geopy\\distance.py\u001b[0m in \u001b[0;36m__init__\u001b[1;34m(self, *args, **kwargs)\u001b[0m\n\u001b[0;32m    416\u001b[0m         \u001b[0mself\u001b[0m\u001b[1;33m.\u001b[0m\u001b[0mset_ellipsoid\u001b[0m\u001b[1;33m(\u001b[0m\u001b[0mkwargs\u001b[0m\u001b[1;33m.\u001b[0m\u001b[0mpop\u001b[0m\u001b[1;33m(\u001b[0m\u001b[1;34m'ellipsoid'\u001b[0m\u001b[1;33m,\u001b[0m \u001b[1;34m'WGS-84'\u001b[0m\u001b[1;33m)\u001b[0m\u001b[1;33m)\u001b[0m\u001b[1;33m\u001b[0m\u001b[1;33m\u001b[0m\u001b[0m\n\u001b[0;32m    417\u001b[0m         \u001b[0mmajor\u001b[0m\u001b[1;33m,\u001b[0m \u001b[0mminor\u001b[0m\u001b[1;33m,\u001b[0m \u001b[0mf\u001b[0m \u001b[1;33m=\u001b[0m \u001b[0mself\u001b[0m\u001b[1;33m.\u001b[0m\u001b[0mELLIPSOID\u001b[0m\u001b[1;33m\u001b[0m\u001b[1;33m\u001b[0m\u001b[0m\n\u001b[1;32m--> 418\u001b[1;33m         \u001b[0msuper\u001b[0m\u001b[1;33m(\u001b[0m\u001b[1;33m)\u001b[0m\u001b[1;33m.\u001b[0m\u001b[0m__init__\u001b[0m\u001b[1;33m(\u001b[0m\u001b[1;33m*\u001b[0m\u001b[0margs\u001b[0m\u001b[1;33m,\u001b[0m \u001b[1;33m**\u001b[0m\u001b[0mkwargs\u001b[0m\u001b[1;33m)\u001b[0m\u001b[1;33m\u001b[0m\u001b[1;33m\u001b[0m\u001b[0m\n\u001b[0m\u001b[0;32m    419\u001b[0m \u001b[1;33m\u001b[0m\u001b[0m\n\u001b[0;32m    420\u001b[0m     \u001b[1;32mdef\u001b[0m \u001b[0mset_ellipsoid\u001b[0m\u001b[1;33m(\u001b[0m\u001b[0mself\u001b[0m\u001b[1;33m,\u001b[0m \u001b[0mellipsoid\u001b[0m\u001b[1;33m)\u001b[0m\u001b[1;33m:\u001b[0m\u001b[1;33m\u001b[0m\u001b[1;33m\u001b[0m\u001b[0m\n",
      "\u001b[1;32m~\\anaconda3\\lib\\site-packages\\geopy\\distance.py\u001b[0m in \u001b[0;36m__init__\u001b[1;34m(self, *args, **kwargs)\u001b[0m\n\u001b[0;32m    196\u001b[0m             \u001b[1;31m# it's a known distance instead of\u001b[0m\u001b[1;33m\u001b[0m\u001b[1;33m\u001b[0m\u001b[1;33m\u001b[0m\u001b[0m\n\u001b[0;32m    197\u001b[0m             \u001b[1;31m# calculating it first\u001b[0m\u001b[1;33m\u001b[0m\u001b[1;33m\u001b[0m\u001b[1;33m\u001b[0m\u001b[0m\n\u001b[1;32m--> 198\u001b[1;33m             \u001b[0mkilometers\u001b[0m \u001b[1;33m+=\u001b[0m \u001b[0margs\u001b[0m\u001b[1;33m[\u001b[0m\u001b[1;36m0\u001b[0m\u001b[1;33m]\u001b[0m\u001b[1;33m\u001b[0m\u001b[1;33m\u001b[0m\u001b[0m\n\u001b[0m\u001b[0;32m    199\u001b[0m         \u001b[1;32melif\u001b[0m \u001b[0mlen\u001b[0m\u001b[1;33m(\u001b[0m\u001b[0margs\u001b[0m\u001b[1;33m)\u001b[0m \u001b[1;33m>\u001b[0m \u001b[1;36m1\u001b[0m\u001b[1;33m:\u001b[0m\u001b[1;33m\u001b[0m\u001b[1;33m\u001b[0m\u001b[0m\n\u001b[0;32m    200\u001b[0m             \u001b[1;32mfor\u001b[0m \u001b[0ma\u001b[0m\u001b[1;33m,\u001b[0m \u001b[0mb\u001b[0m \u001b[1;32min\u001b[0m \u001b[0mutil\u001b[0m\u001b[1;33m.\u001b[0m\u001b[0mpairwise\u001b[0m\u001b[1;33m(\u001b[0m\u001b[0margs\u001b[0m\u001b[1;33m)\u001b[0m\u001b[1;33m:\u001b[0m\u001b[1;33m\u001b[0m\u001b[1;33m\u001b[0m\u001b[0m\n",
      "\u001b[1;31mTypeError\u001b[0m: unsupported operand type(s) for +=: 'int' and 'tuple'"
     ]
    }
   ],
   "source": [
    "miles_trav = []\n",
    "\n",
    "for i in top20_bearids:\n",
    "    d= bear_path(distance.distance(*bear_path).miles)[i]\n",
    "    miles_trav.append([i, d])\n",
    "    \n",
    "miles_trav    "
   ]
  },
  {
   "cell_type": "code",
   "execution_count": null,
   "metadata": {},
   "outputs": [],
   "source": []
  },
  {
   "cell_type": "code",
   "execution_count": null,
   "metadata": {},
   "outputs": [],
   "source": []
  },
  {
   "cell_type": "code",
   "execution_count": null,
   "metadata": {},
   "outputs": [],
   "source": []
  },
  {
   "cell_type": "code",
   "execution_count": 59,
   "metadata": {},
   "outputs": [],
   "source": [
    "#WORKING!\n",
    "\n",
    "# bears=brooke_data['BearID_mcp'].unique()\n",
    "# bear_data = []\n",
    "\n",
    "# for each_bear in bears: \n",
    "#     one_bear=brooke_data[brooke_data['BearID_mcp']==each_bear]\n",
    "#     # distance.distance([(lat, lon), (lat, lon)]).miles\n",
    "#     bear_path=[]\n",
    "#     for idc, each_row in one_bear.iterrows(): \n",
    "#         bear_path.append((float(each_row['latitude_mcp']), float(each_row['longitude_mcp'])))\n",
    "#     print(f'bear {each_bear} traveled {distance.distance(*bear_path).miles} miles')"
   ]
  },
  {
   "cell_type": "code",
   "execution_count": 75,
   "metadata": {},
   "outputs": [
    {
     "data": {
      "text/html": [
       "<div>\n",
       "<style scoped>\n",
       "    .dataframe tbody tr th:only-of-type {\n",
       "        vertical-align: middle;\n",
       "    }\n",
       "\n",
       "    .dataframe tbody tr th {\n",
       "        vertical-align: top;\n",
       "    }\n",
       "\n",
       "    .dataframe thead th {\n",
       "        text-align: right;\n",
       "    }\n",
       "</style>\n",
       "<table border=\"1\" class=\"dataframe\">\n",
       "  <thead>\n",
       "    <tr style=\"text-align: right;\">\n",
       "      <th></th>\n",
       "      <th>BearID_mcp</th>\n",
       "      <th>DateTimeUTC_mcp</th>\n",
       "      <th>Date</th>\n",
       "      <th>latitude_mcp</th>\n",
       "      <th>longitude_mcp</th>\n",
       "    </tr>\n",
       "  </thead>\n",
       "  <tbody>\n",
       "    <tr>\n",
       "      <th>0</th>\n",
       "      <td>1</td>\n",
       "      <td>5/3/1992 22:12</td>\n",
       "      <td>1992-05-03</td>\n",
       "      <td>74.005</td>\n",
       "      <td>-125.453</td>\n",
       "    </tr>\n",
       "    <tr>\n",
       "      <th>1</th>\n",
       "      <td>1</td>\n",
       "      <td>5/9/1992 23:54</td>\n",
       "      <td>1992-05-09</td>\n",
       "      <td>74.325</td>\n",
       "      <td>-125.857</td>\n",
       "    </tr>\n",
       "    <tr>\n",
       "      <th>2</th>\n",
       "      <td>1</td>\n",
       "      <td>5/24/1992 21:26</td>\n",
       "      <td>1992-05-24</td>\n",
       "      <td>74.099</td>\n",
       "      <td>-125.188</td>\n",
       "    </tr>\n",
       "    <tr>\n",
       "      <th>3</th>\n",
       "      <td>1</td>\n",
       "      <td>5/25/1992 0:18</td>\n",
       "      <td>1992-05-25</td>\n",
       "      <td>74.148</td>\n",
       "      <td>-125.214</td>\n",
       "    </tr>\n",
       "    <tr>\n",
       "      <th>4</th>\n",
       "      <td>1</td>\n",
       "      <td>6/7/1992 23:08</td>\n",
       "      <td>1992-06-07</td>\n",
       "      <td>73.470</td>\n",
       "      <td>-125.055</td>\n",
       "    </tr>\n",
       "    <tr>\n",
       "      <th>5</th>\n",
       "      <td>1</td>\n",
       "      <td>6/13/1992 21:57</td>\n",
       "      <td>1992-06-13</td>\n",
       "      <td>73.450</td>\n",
       "      <td>-125.002</td>\n",
       "    </tr>\n",
       "    <tr>\n",
       "      <th>6</th>\n",
       "      <td>1</td>\n",
       "      <td>6/14/1992 0:20</td>\n",
       "      <td>1992-06-14</td>\n",
       "      <td>73.426</td>\n",
       "      <td>-125.114</td>\n",
       "    </tr>\n",
       "  </tbody>\n",
       "</table>\n",
       "</div>"
      ],
      "text/plain": [
       "   BearID_mcp  DateTimeUTC_mcp        Date  latitude_mcp  longitude_mcp\n",
       "0           1   5/3/1992 22:12  1992-05-03        74.005       -125.453\n",
       "1           1   5/9/1992 23:54  1992-05-09        74.325       -125.857\n",
       "2           1  5/24/1992 21:26  1992-05-24        74.099       -125.188\n",
       "3           1   5/25/1992 0:18  1992-05-25        74.148       -125.214\n",
       "4           1   6/7/1992 23:08  1992-06-07        73.470       -125.055\n",
       "5           1  6/13/1992 21:57  1992-06-13        73.450       -125.002\n",
       "6           1   6/14/1992 0:20  1992-06-14        73.426       -125.114"
      ]
     },
     "execution_count": 75,
     "metadata": {},
     "output_type": "execute_result"
    }
   ],
   "source": [
    "one_bear"
   ]
  },
  {
   "cell_type": "code",
   "execution_count": 79,
   "metadata": {},
   "outputs": [
    {
     "ename": "TypeError",
     "evalue": "unsupported operand type(s) for +=: 'int' and 'list'",
     "output_type": "error",
     "traceback": [
      "\u001b[1;31m---------------------------------------------------------------------------\u001b[0m",
      "\u001b[1;31mTypeError\u001b[0m                                 Traceback (most recent call last)",
      "\u001b[1;32m<ipython-input-79-b81e7f1873f2>\u001b[0m in \u001b[0;36m<module>\u001b[1;34m\u001b[0m\n\u001b[0;32m      8\u001b[0m         \u001b[0mdis_trav\u001b[0m\u001b[1;33m=\u001b[0m\u001b[1;33m[\u001b[0m\u001b[1;33m]\u001b[0m\u001b[1;33m\u001b[0m\u001b[1;33m\u001b[0m\u001b[0m\n\u001b[0;32m      9\u001b[0m         \u001b[1;32mfor\u001b[0m \u001b[0mtrav\u001b[0m\u001b[1;33m,\u001b[0m \u001b[0meach_row\u001b[0m \u001b[1;32min\u001b[0m \u001b[0mone_bear\u001b[0m\u001b[1;33m.\u001b[0m\u001b[0miterrows\u001b[0m\u001b[1;33m(\u001b[0m\u001b[1;33m)\u001b[0m\u001b[1;33m:\u001b[0m\u001b[1;33m\u001b[0m\u001b[1;33m\u001b[0m\u001b[0m\n\u001b[1;32m---> 10\u001b[1;33m             \u001b[0mdis_trav\u001b[0m\u001b[1;33m.\u001b[0m\u001b[0mappend\u001b[0m\u001b[1;33m(\u001b[0m\u001b[0meach_row\u001b[0m\u001b[1;33m(\u001b[0m\u001b[0mdistance\u001b[0m\u001b[1;33m.\u001b[0m\u001b[0mdistance\u001b[0m\u001b[1;33m(\u001b[0m\u001b[0mtest_path\u001b[0m\u001b[1;33m)\u001b[0m\u001b[1;33m.\u001b[0m\u001b[0mmiles\u001b[0m\u001b[1;33m)\u001b[0m\u001b[1;33m)\u001b[0m\u001b[1;33m\u001b[0m\u001b[1;33m\u001b[0m\u001b[0m\n\u001b[0m",
      "\u001b[1;32m~\\anaconda3\\lib\\site-packages\\geopy\\distance.py\u001b[0m in \u001b[0;36m__init__\u001b[1;34m(self, *args, **kwargs)\u001b[0m\n\u001b[0;32m    416\u001b[0m         \u001b[0mself\u001b[0m\u001b[1;33m.\u001b[0m\u001b[0mset_ellipsoid\u001b[0m\u001b[1;33m(\u001b[0m\u001b[0mkwargs\u001b[0m\u001b[1;33m.\u001b[0m\u001b[0mpop\u001b[0m\u001b[1;33m(\u001b[0m\u001b[1;34m'ellipsoid'\u001b[0m\u001b[1;33m,\u001b[0m \u001b[1;34m'WGS-84'\u001b[0m\u001b[1;33m)\u001b[0m\u001b[1;33m)\u001b[0m\u001b[1;33m\u001b[0m\u001b[1;33m\u001b[0m\u001b[0m\n\u001b[0;32m    417\u001b[0m         \u001b[0mmajor\u001b[0m\u001b[1;33m,\u001b[0m \u001b[0mminor\u001b[0m\u001b[1;33m,\u001b[0m \u001b[0mf\u001b[0m \u001b[1;33m=\u001b[0m \u001b[0mself\u001b[0m\u001b[1;33m.\u001b[0m\u001b[0mELLIPSOID\u001b[0m\u001b[1;33m\u001b[0m\u001b[1;33m\u001b[0m\u001b[0m\n\u001b[1;32m--> 418\u001b[1;33m         \u001b[0msuper\u001b[0m\u001b[1;33m(\u001b[0m\u001b[1;33m)\u001b[0m\u001b[1;33m.\u001b[0m\u001b[0m__init__\u001b[0m\u001b[1;33m(\u001b[0m\u001b[1;33m*\u001b[0m\u001b[0margs\u001b[0m\u001b[1;33m,\u001b[0m \u001b[1;33m**\u001b[0m\u001b[0mkwargs\u001b[0m\u001b[1;33m)\u001b[0m\u001b[1;33m\u001b[0m\u001b[1;33m\u001b[0m\u001b[0m\n\u001b[0m\u001b[0;32m    419\u001b[0m \u001b[1;33m\u001b[0m\u001b[0m\n\u001b[0;32m    420\u001b[0m     \u001b[1;32mdef\u001b[0m \u001b[0mset_ellipsoid\u001b[0m\u001b[1;33m(\u001b[0m\u001b[0mself\u001b[0m\u001b[1;33m,\u001b[0m \u001b[0mellipsoid\u001b[0m\u001b[1;33m)\u001b[0m\u001b[1;33m:\u001b[0m\u001b[1;33m\u001b[0m\u001b[1;33m\u001b[0m\u001b[0m\n",
      "\u001b[1;32m~\\anaconda3\\lib\\site-packages\\geopy\\distance.py\u001b[0m in \u001b[0;36m__init__\u001b[1;34m(self, *args, **kwargs)\u001b[0m\n\u001b[0;32m    196\u001b[0m             \u001b[1;31m# it's a known distance instead of\u001b[0m\u001b[1;33m\u001b[0m\u001b[1;33m\u001b[0m\u001b[1;33m\u001b[0m\u001b[0m\n\u001b[0;32m    197\u001b[0m             \u001b[1;31m# calculating it first\u001b[0m\u001b[1;33m\u001b[0m\u001b[1;33m\u001b[0m\u001b[1;33m\u001b[0m\u001b[0m\n\u001b[1;32m--> 198\u001b[1;33m             \u001b[0mkilometers\u001b[0m \u001b[1;33m+=\u001b[0m \u001b[0margs\u001b[0m\u001b[1;33m[\u001b[0m\u001b[1;36m0\u001b[0m\u001b[1;33m]\u001b[0m\u001b[1;33m\u001b[0m\u001b[1;33m\u001b[0m\u001b[0m\n\u001b[0m\u001b[0;32m    199\u001b[0m         \u001b[1;32melif\u001b[0m \u001b[0mlen\u001b[0m\u001b[1;33m(\u001b[0m\u001b[0margs\u001b[0m\u001b[1;33m)\u001b[0m \u001b[1;33m>\u001b[0m \u001b[1;36m1\u001b[0m\u001b[1;33m:\u001b[0m\u001b[1;33m\u001b[0m\u001b[1;33m\u001b[0m\u001b[0m\n\u001b[0;32m    200\u001b[0m             \u001b[1;32mfor\u001b[0m \u001b[0ma\u001b[0m\u001b[1;33m,\u001b[0m \u001b[0mb\u001b[0m \u001b[1;32min\u001b[0m \u001b[0mutil\u001b[0m\u001b[1;33m.\u001b[0m\u001b[0mpairwise\u001b[0m\u001b[1;33m(\u001b[0m\u001b[0margs\u001b[0m\u001b[1;33m)\u001b[0m\u001b[1;33m:\u001b[0m\u001b[1;33m\u001b[0m\u001b[1;33m\u001b[0m\u001b[0m\n",
      "\u001b[1;31mTypeError\u001b[0m: unsupported operand type(s) for +=: 'int' and 'list'"
     ]
    }
   ],
   "source": [
    "bears=brooke_data['BearID_mcp'].unique()\n",
    "\n",
    "for each_bear in bears: \n",
    "    one_bear=brooke_data[brooke_data['BearID_mcp']==each_bear]\n",
    "    test_path=[]\n",
    "    for idc, each_row in one_bear.iterrows():\n",
    "        test_path.append((float(each_row['latitude_mcp']), float(each_row['longitude_mcp'])))\n",
    "        dis_trav=[]\n",
    "        for trav, each_row in one_bear.iterrows():\n",
    "            dis_trav.append(each_row(distance.distance(test_path).miles))\n"
   ]
  },
  {
   "cell_type": "code",
   "execution_count": 77,
   "metadata": {},
   "outputs": [
    {
     "data": {
      "text/plain": [
       "[(74.005, -125.45299999999999)]"
      ]
     },
     "execution_count": 77,
     "metadata": {},
     "output_type": "execute_result"
    }
   ],
   "source": [
    "test_path"
   ]
  },
  {
   "cell_type": "code",
   "execution_count": 65,
   "metadata": {},
   "outputs": [
    {
     "data": {
      "text/plain": [
       "array([  1,   2,   3,   4,   5,   6,   7,   8,   9,  10,  11,  12,  13,\n",
       "        14,  15,  16,  17,  18,  19,  20,  21,  22,  23,  24,  25,  26,\n",
       "        27,  28,  29,  30,  31,  32,  33,  34,  35,  36,  37,  38,  39,\n",
       "        40,  41,  42,  43,  44,  45,  46,  47,  48,  49,  50,  51,  52,\n",
       "        53,  54,  55,  56,  57,  58,  59,  60,  61,  62,  63,  64,  65,\n",
       "        66,  67,  68,  69,  70,  71,  72,  73,  74,  75,  76,  77,  78,\n",
       "        79,  80,  81,  82,  83,  84,  85,  86,  87,  88,  89,  90,  91,\n",
       "        92,  93,  94,  95,  96,  97,  98,  99, 100, 101, 102, 103, 104,\n",
       "       105, 106, 107, 109, 110, 111, 112, 113, 114, 115, 116, 117, 118,\n",
       "       119, 120, 121, 122, 123, 124, 125, 126, 127, 128, 129, 130, 131,\n",
       "       132, 133, 134, 135, 136, 137, 138, 139, 140, 141, 142, 143, 144,\n",
       "       145, 146, 147, 148, 149, 151, 152, 153, 154, 155, 156, 157, 159,\n",
       "       160, 161, 162, 163, 164, 165, 166, 167, 168, 169, 170, 171, 172,\n",
       "       173, 174, 176, 177, 178, 179, 180, 181, 182, 183, 185, 186, 187,\n",
       "       188, 189, 190, 191, 192, 193, 194, 195, 196, 197, 198, 199, 200,\n",
       "       201, 202, 203, 204, 205, 206, 207, 208, 209, 210, 212, 213, 214,\n",
       "       215, 216, 217, 218, 219, 220, 221, 222, 223, 224, 226, 228, 229,\n",
       "       230, 231, 232, 233, 234, 235, 236, 237, 238, 239, 240, 241, 242,\n",
       "       243, 244, 245, 246, 247, 248, 249, 250, 251, 252, 253, 254, 255,\n",
       "       256, 257, 258, 259, 260, 261, 262, 263, 264, 265, 266, 267, 268,\n",
       "       269, 270, 271, 272, 273, 274, 275, 276, 277, 278, 279, 280, 281,\n",
       "       282, 283, 284, 285, 286, 287, 288, 289, 290, 291, 292, 293, 294,\n",
       "       295, 297, 298, 299, 300, 301, 302, 303, 304, 305, 306, 307, 308],\n",
       "      dtype=int64)"
      ]
     },
     "execution_count": 65,
     "metadata": {},
     "output_type": "execute_result"
    }
   ],
   "source": [
    "bears"
   ]
  },
  {
   "cell_type": "code",
   "execution_count": 70,
   "metadata": {},
   "outputs": [
    {
     "data": {
      "text/plain": [
       "[(71.027, -148.70600000000002),\n",
       " (71.023, -148.70600000000002),\n",
       " (71.021, -148.739),\n",
       " (71.02199999999999, -148.735),\n",
       " (71.02199999999999, -148.75),\n",
       " (71.024, -148.851),\n",
       " (71.02600000000001, -148.859),\n",
       " (71.031, -148.891),\n",
       " (71.02600000000001, -148.859),\n",
       " (71.02600000000001, -148.862),\n",
       " (71.01899999999999, -148.847),\n",
       " (71.02199999999999, -148.863),\n",
       " (70.995, -148.811),\n",
       " (71.039, -148.851),\n",
       " (71.038, -148.839),\n",
       " (71.039, -148.764),\n",
       " (70.957, -148.421),\n",
       " (70.959, -148.42700000000002),\n",
       " (70.962, -148.181),\n",
       " (70.836, -147.917),\n",
       " (70.889, -147.533),\n",
       " (71.045, -147.4),\n",
       " (71.204, -147.436),\n",
       " (71.11399999999999, -147.43),\n",
       " (70.967, -146.987),\n",
       " (70.868, -146.725),\n",
       " (70.79, -146.553),\n",
       " (70.773, -146.503),\n",
       " (70.947, -146.908),\n",
       " (71.101, -147.123),\n",
       " (71.465, -147.135),\n",
       " (71.138, -147.077),\n",
       " (70.986, -146.296),\n",
       " (70.958, -145.959),\n",
       " (70.863, -145.866),\n",
       " (70.815, -145.721),\n",
       " (70.738, -144.655),\n",
       " (70.73100000000001, -144.343),\n",
       " (70.686, -144.05200000000002),\n",
       " (70.941, -144.89700000000002),\n",
       " (71.319, -145.626),\n",
       " (71.712, -146.201),\n",
       " (72.013, -146.73),\n",
       " (72.293, -146.74),\n",
       " (72.516, -145.572),\n",
       " (72.572, -144.761),\n",
       " (72.395, -144.526),\n",
       " (72.152, -143.876),\n",
       " (71.98, -143.512)]"
      ]
     },
     "execution_count": 70,
     "metadata": {},
     "output_type": "execute_result"
    }
   ],
   "source": [
    "test_path"
   ]
  },
  {
   "cell_type": "code",
   "execution_count": null,
   "metadata": {},
   "outputs": [],
   "source": []
  }
 ],
 "metadata": {
  "kernelspec": {
   "display_name": "Python 3",
   "language": "python",
   "name": "python3"
  },
  "language_info": {
   "codemirror_mode": {
    "name": "ipython",
    "version": 3
   },
   "file_extension": ".py",
   "mimetype": "text/x-python",
   "name": "python",
   "nbconvert_exporter": "python",
   "pygments_lexer": "ipython3",
   "version": "3.7.6"
  }
 },
 "nbformat": 4,
 "nbformat_minor": 4
}
