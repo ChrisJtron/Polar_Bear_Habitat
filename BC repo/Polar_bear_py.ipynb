{
 "cells": [
  {
   "cell_type": "code",
   "execution_count": 1,
   "metadata": {},
   "outputs": [],
   "source": [
    "import pandas as pd\n",
    "import json\n",
    "import geopy.distance\n",
    "import matplotlib.pyplot as plt\n",
    "import numpy as np\n",
    "from datetime import timedelta, date, datetime\n",
    "import math"
   ]
  },
  {
   "cell_type": "code",
   "execution_count": 2,
   "metadata": {},
   "outputs": [],
   "source": [
    "from geopy import distance"
   ]
  },
  {
   "cell_type": "code",
   "execution_count": 3,
   "metadata": {},
   "outputs": [
    {
     "data": {
      "text/html": [
       "<div>\n",
       "<style scoped>\n",
       "    .dataframe tbody tr th:only-of-type {\n",
       "        vertical-align: middle;\n",
       "    }\n",
       "\n",
       "    .dataframe tbody tr th {\n",
       "        vertical-align: top;\n",
       "    }\n",
       "\n",
       "    .dataframe thead th {\n",
       "        text-align: right;\n",
       "    }\n",
       "</style>\n",
       "<table border=\"1\" class=\"dataframe\">\n",
       "  <thead>\n",
       "    <tr style=\"text-align: right;\">\n",
       "      <th></th>\n",
       "      <th>BearID_mcp</th>\n",
       "      <th>DateTimeUTC_mcp</th>\n",
       "      <th>Date</th>\n",
       "      <th>latitude_mcp</th>\n",
       "      <th>longitude_mcp</th>\n",
       "    </tr>\n",
       "  </thead>\n",
       "  <tbody>\n",
       "    <tr>\n",
       "      <th>0</th>\n",
       "      <td>1</td>\n",
       "      <td>5/3/1992 22:12</td>\n",
       "      <td>1992-05-03</td>\n",
       "      <td>74.005</td>\n",
       "      <td>-125.453</td>\n",
       "    </tr>\n",
       "    <tr>\n",
       "      <th>1</th>\n",
       "      <td>1</td>\n",
       "      <td>5/9/1992 23:54</td>\n",
       "      <td>1992-05-09</td>\n",
       "      <td>74.325</td>\n",
       "      <td>-125.857</td>\n",
       "    </tr>\n",
       "    <tr>\n",
       "      <th>2</th>\n",
       "      <td>1</td>\n",
       "      <td>5/24/1992 21:26</td>\n",
       "      <td>1992-05-24</td>\n",
       "      <td>74.099</td>\n",
       "      <td>-125.188</td>\n",
       "    </tr>\n",
       "    <tr>\n",
       "      <th>3</th>\n",
       "      <td>1</td>\n",
       "      <td>5/25/1992 0:18</td>\n",
       "      <td>1992-05-25</td>\n",
       "      <td>74.148</td>\n",
       "      <td>-125.214</td>\n",
       "    </tr>\n",
       "    <tr>\n",
       "      <th>4</th>\n",
       "      <td>1</td>\n",
       "      <td>6/7/1992 23:08</td>\n",
       "      <td>1992-06-07</td>\n",
       "      <td>73.470</td>\n",
       "      <td>-125.055</td>\n",
       "    </tr>\n",
       "    <tr>\n",
       "      <th>...</th>\n",
       "      <td>...</td>\n",
       "      <td>...</td>\n",
       "      <td>...</td>\n",
       "      <td>...</td>\n",
       "      <td>...</td>\n",
       "    </tr>\n",
       "    <tr>\n",
       "      <th>56963</th>\n",
       "      <td>308</td>\n",
       "      <td>6/8/2010 19:03</td>\n",
       "      <td>2010-06-08</td>\n",
       "      <td>72.516</td>\n",
       "      <td>-145.572</td>\n",
       "    </tr>\n",
       "    <tr>\n",
       "      <th>56964</th>\n",
       "      <td>308</td>\n",
       "      <td>6/9/2010 18:44</td>\n",
       "      <td>2010-06-09</td>\n",
       "      <td>72.572</td>\n",
       "      <td>-144.761</td>\n",
       "    </tr>\n",
       "    <tr>\n",
       "      <th>56965</th>\n",
       "      <td>308</td>\n",
       "      <td>6/10/2010 18:21</td>\n",
       "      <td>2010-06-10</td>\n",
       "      <td>72.395</td>\n",
       "      <td>-144.526</td>\n",
       "    </tr>\n",
       "    <tr>\n",
       "      <th>56966</th>\n",
       "      <td>308</td>\n",
       "      <td>6/11/2010 18:52</td>\n",
       "      <td>2010-06-11</td>\n",
       "      <td>72.152</td>\n",
       "      <td>-143.876</td>\n",
       "    </tr>\n",
       "    <tr>\n",
       "      <th>56967</th>\n",
       "      <td>308</td>\n",
       "      <td>6/12/2010 20:22</td>\n",
       "      <td>2010-06-12</td>\n",
       "      <td>71.980</td>\n",
       "      <td>-143.512</td>\n",
       "    </tr>\n",
       "  </tbody>\n",
       "</table>\n",
       "<p>56968 rows × 5 columns</p>\n",
       "</div>"
      ],
      "text/plain": [
       "       BearID_mcp  DateTimeUTC_mcp        Date  latitude_mcp  longitude_mcp\n",
       "0               1   5/3/1992 22:12  1992-05-03        74.005       -125.453\n",
       "1               1   5/9/1992 23:54  1992-05-09        74.325       -125.857\n",
       "2               1  5/24/1992 21:26  1992-05-24        74.099       -125.188\n",
       "3               1   5/25/1992 0:18  1992-05-25        74.148       -125.214\n",
       "4               1   6/7/1992 23:08  1992-06-07        73.470       -125.055\n",
       "...           ...              ...         ...           ...            ...\n",
       "56963         308   6/8/2010 19:03  2010-06-08        72.516       -145.572\n",
       "56964         308   6/9/2010 18:44  2010-06-09        72.572       -144.761\n",
       "56965         308  6/10/2010 18:21  2010-06-10        72.395       -144.526\n",
       "56966         308  6/11/2010 18:52  2010-06-11        72.152       -143.876\n",
       "56967         308  6/12/2010 20:22  2010-06-12        71.980       -143.512\n",
       "\n",
       "[56968 rows x 5 columns]"
      ]
     },
     "execution_count": 3,
     "metadata": {},
     "output_type": "execute_result"
    }
   ],
   "source": [
    "bear_data=pd.read_csv(\"Polar_bear_data.csv\")\n",
    "bear_data\n",
    "# print(bear_data.columns)"
   ]
  },
  {
   "cell_type": "code",
   "execution_count": 4,
   "metadata": {},
   "outputs": [
    {
     "data": {
      "text/plain": [
       "BearID_mcp\n",
       "1        7\n",
       "2       88\n",
       "3      102\n",
       "4       26\n",
       "5      173\n",
       "      ... \n",
       "304    164\n",
       "305     35\n",
       "306    388\n",
       "307     60\n",
       "308     49\n",
       "Name: BearID_mcp, Length: 299, dtype: int64"
      ]
     },
     "execution_count": 4,
     "metadata": {},
     "output_type": "execute_result"
    }
   ],
   "source": [
    "bear_num = bear_data.groupby(['BearID_mcp'])\n",
    "grouped_bears = bear_num['BearID_mcp'].count()\n",
    "grouped_bears"
   ]
  },
  {
   "cell_type": "code",
   "execution_count": 5,
   "metadata": {},
   "outputs": [
    {
     "data": {
      "text/plain": [
       "[32,\n",
       " 281,\n",
       " 7,\n",
       " 52,\n",
       " 144,\n",
       " 302,\n",
       " 89,\n",
       " 160,\n",
       " 50,\n",
       " 139,\n",
       " 114,\n",
       " 129,\n",
       " 207,\n",
       " 135,\n",
       " 204,\n",
       " 38,\n",
       " 213,\n",
       " 294,\n",
       " 250,\n",
       " 179]"
      ]
     },
     "execution_count": 5,
     "metadata": {},
     "output_type": "execute_result"
    }
   ],
   "source": [
    "# df_gb.sort_values, ascending=False).head(20)\n",
    "top_20 = grouped_bears.nlargest(20)\n",
    "top20_bearids = top_20.index.to_list()\n",
    "top20_bearids"
   ]
  },
  {
   "cell_type": "code",
   "execution_count": 6,
   "metadata": {},
   "outputs": [
    {
     "data": {
      "text/plain": [
       "20"
      ]
     },
     "execution_count": 6,
     "metadata": {},
     "output_type": "execute_result"
    }
   ],
   "source": [
    "len(top20_bearids)"
   ]
  },
  {
   "cell_type": "code",
   "execution_count": 7,
   "metadata": {},
   "outputs": [
    {
     "data": {
      "image/png": "[encoded data removed]",
      "text/plain": [
       "<Figure size 432x288 with 1 Axes>"
      ]
     },
     "metadata": {
      "needs_background": "light"
     },
     "output_type": "display_data"
    },
    {
     "data": {
      "text/plain": [
       "<Figure size 432x288 with 0 Axes>"
      ]
     },
     "metadata": {},
     "output_type": "display_data"
    }
   ],
   "source": [
    "top_20 = grouped_bears.nlargest(20)\n",
    "bear_chart = top_20.plot(kind=\"bar\", title=\"Number of Datapoints by Bear (Top 20)\", align=\"center\")\n",
    "bear_chart.set_xlabel('Bear ID')\n",
    "bear_chart.set_ylabel(\"Number of Datapoints by Bear\")\n",
    "# plt.xticks(rotation=45)\n",
    "plt.show()\n",
    "plt.tight_layout()\n",
    "plt.savefig(\"./output_data/bear_datapoints.jpg\")"
   ]
  },
  {
   "cell_type": "code",
   "execution_count": 8,
   "metadata": {},
   "outputs": [],
   "source": [
    "#Find min/max datapoints\n",
    "\n",
    "max_dpts = bear_data[['BearID_mcp','Date']].groupby('BearID_mcp').max()\n",
    "min_dpts =bear_data[['BearID_mcp','Date']].groupby('BearID_mcp').min()"
   ]
  },
  {
   "cell_type": "code",
   "execution_count": 9,
   "metadata": {},
   "outputs": [
    {
     "data": {
      "text/html": [
       "<div>\n",
       "<style scoped>\n",
       "    .dataframe tbody tr th:only-of-type {\n",
       "        vertical-align: middle;\n",
       "    }\n",
       "\n",
       "    .dataframe tbody tr th {\n",
       "        vertical-align: top;\n",
       "    }\n",
       "\n",
       "    .dataframe thead th {\n",
       "        text-align: right;\n",
       "    }\n",
       "</style>\n",
       "<table border=\"1\" class=\"dataframe\">\n",
       "  <thead>\n",
       "    <tr style=\"text-align: right;\">\n",
       "      <th></th>\n",
       "      <th>BearID_mcp</th>\n",
       "      <th>DateTimeUTC_mcp</th>\n",
       "      <th>Date</th>\n",
       "      <th>latitude_mcp</th>\n",
       "      <th>longitude_mcp</th>\n",
       "      <th>First datapoint</th>\n",
       "      <th>Last datapoint</th>\n",
       "    </tr>\n",
       "  </thead>\n",
       "  <tbody>\n",
       "    <tr>\n",
       "      <th>1</th>\n",
       "      <td>1</td>\n",
       "      <td>5/9/1992 23:54</td>\n",
       "      <td>1992-05-09</td>\n",
       "      <td>74.325</td>\n",
       "      <td>-125.857</td>\n",
       "      <td>1992-05-03</td>\n",
       "      <td>1992-06-14</td>\n",
       "    </tr>\n",
       "    <tr>\n",
       "      <th>2</th>\n",
       "      <td>1</td>\n",
       "      <td>5/24/1992 21:26</td>\n",
       "      <td>1992-05-24</td>\n",
       "      <td>74.099</td>\n",
       "      <td>-125.188</td>\n",
       "      <td>1986-05-02</td>\n",
       "      <td>1987-06-18</td>\n",
       "    </tr>\n",
       "    <tr>\n",
       "      <th>3</th>\n",
       "      <td>1</td>\n",
       "      <td>5/25/1992 0:18</td>\n",
       "      <td>1992-05-25</td>\n",
       "      <td>74.148</td>\n",
       "      <td>-125.214</td>\n",
       "      <td>1989-11-03</td>\n",
       "      <td>1990-05-25</td>\n",
       "    </tr>\n",
       "    <tr>\n",
       "      <th>4</th>\n",
       "      <td>1</td>\n",
       "      <td>6/7/1992 23:08</td>\n",
       "      <td>1992-06-07</td>\n",
       "      <td>73.470</td>\n",
       "      <td>-125.055</td>\n",
       "      <td>1991-04-09</td>\n",
       "      <td>1991-05-05</td>\n",
       "    </tr>\n",
       "    <tr>\n",
       "      <th>5</th>\n",
       "      <td>1</td>\n",
       "      <td>6/13/1992 21:57</td>\n",
       "      <td>1992-06-13</td>\n",
       "      <td>73.450</td>\n",
       "      <td>-125.002</td>\n",
       "      <td>1985-05-12</td>\n",
       "      <td>1987-04-04</td>\n",
       "    </tr>\n",
       "    <tr>\n",
       "      <th>...</th>\n",
       "      <td>...</td>\n",
       "      <td>...</td>\n",
       "      <td>...</td>\n",
       "      <td>...</td>\n",
       "      <td>...</td>\n",
       "      <td>...</td>\n",
       "      <td>...</td>\n",
       "    </tr>\n",
       "    <tr>\n",
       "      <th>304</th>\n",
       "      <td>5</td>\n",
       "      <td>9/11/1985 0:21</td>\n",
       "      <td>1985-09-11</td>\n",
       "      <td>71.990</td>\n",
       "      <td>-148.570</td>\n",
       "      <td>2009-05-09</td>\n",
       "      <td>2009-10-19</td>\n",
       "    </tr>\n",
       "    <tr>\n",
       "      <th>305</th>\n",
       "      <td>5</td>\n",
       "      <td>9/12/1985 1:56</td>\n",
       "      <td>1985-09-12</td>\n",
       "      <td>71.990</td>\n",
       "      <td>-148.566</td>\n",
       "      <td>2009-08-21</td>\n",
       "      <td>2009-10-03</td>\n",
       "    </tr>\n",
       "    <tr>\n",
       "      <th>306</th>\n",
       "      <td>5</td>\n",
       "      <td>9/13/1985 0:04</td>\n",
       "      <td>1985-09-13</td>\n",
       "      <td>72.084</td>\n",
       "      <td>-148.581</td>\n",
       "      <td>2006-04-04</td>\n",
       "      <td>2008-06-22</td>\n",
       "    </tr>\n",
       "    <tr>\n",
       "      <th>307</th>\n",
       "      <td>5</td>\n",
       "      <td>9/14/1985 22:01</td>\n",
       "      <td>1985-09-14</td>\n",
       "      <td>72.219</td>\n",
       "      <td>-148.867</td>\n",
       "      <td>2016-04-22</td>\n",
       "      <td>2016-06-20</td>\n",
       "    </tr>\n",
       "    <tr>\n",
       "      <th>308</th>\n",
       "      <td>5</td>\n",
       "      <td>9/16/1985 23:22</td>\n",
       "      <td>1985-09-16</td>\n",
       "      <td>72.168</td>\n",
       "      <td>-148.605</td>\n",
       "      <td>2010-04-25</td>\n",
       "      <td>2010-06-12</td>\n",
       "    </tr>\n",
       "  </tbody>\n",
       "</table>\n",
       "<p>299 rows × 7 columns</p>\n",
       "</div>"
      ],
      "text/plain": [
       "     BearID_mcp  DateTimeUTC_mcp        Date  latitude_mcp  longitude_mcp  \\\n",
       "1             1   5/9/1992 23:54  1992-05-09        74.325       -125.857   \n",
       "2             1  5/24/1992 21:26  1992-05-24        74.099       -125.188   \n",
       "3             1   5/25/1992 0:18  1992-05-25        74.148       -125.214   \n",
       "4             1   6/7/1992 23:08  1992-06-07        73.470       -125.055   \n",
       "5             1  6/13/1992 21:57  1992-06-13        73.450       -125.002   \n",
       "..          ...              ...         ...           ...            ...   \n",
       "304           5   9/11/1985 0:21  1985-09-11        71.990       -148.570   \n",
       "305           5   9/12/1985 1:56  1985-09-12        71.990       -148.566   \n",
       "306           5   9/13/1985 0:04  1985-09-13        72.084       -148.581   \n",
       "307           5  9/14/1985 22:01  1985-09-14        72.219       -148.867   \n",
       "308           5  9/16/1985 23:22  1985-09-16        72.168       -148.605   \n",
       "\n",
       "    First datapoint Last datapoint  \n",
       "1        1992-05-03     1992-06-14  \n",
       "2        1986-05-02     1987-06-18  \n",
       "3        1989-11-03     1990-05-25  \n",
       "4        1991-04-09     1991-05-05  \n",
       "5        1985-05-12     1987-04-04  \n",
       "..              ...            ...  \n",
       "304      2009-05-09     2009-10-19  \n",
       "305      2009-08-21     2009-10-03  \n",
       "306      2006-04-04     2008-06-22  \n",
       "307      2016-04-22     2016-06-20  \n",
       "308      2010-04-25     2010-06-12  \n",
       "\n",
       "[299 rows x 7 columns]"
      ]
     },
     "execution_count": 9,
     "metadata": {},
     "output_type": "execute_result"
    }
   ],
   "source": [
    "#Create new columns for first/last datapoints and dropna's\n",
    "\n",
    "bear_data['First datapoint'] = pd.to_datetime(min_dpts['Date'])\n",
    "bear_data['Last datapoint'] = pd.to_datetime(max_dpts['Date'])\n",
    "\n",
    "clean_bear = bear_data.dropna()\n",
    "clean_bear"
   ]
  },
  {
   "cell_type": "code",
   "execution_count": 10,
   "metadata": {},
   "outputs": [
    {
     "data": {
      "text/plain": [
       "BearID_mcp                  int64\n",
       "DateTimeUTC_mcp            object\n",
       "Date                       object\n",
       "latitude_mcp              float64\n",
       "longitude_mcp             float64\n",
       "First datapoint    datetime64[ns]\n",
       "Last datapoint     datetime64[ns]\n",
       "dtype: object"
      ]
     },
     "execution_count": 10,
     "metadata": {},
     "output_type": "execute_result"
    }
   ],
   "source": [
    "clean_bear.dtypes"
   ]
  },
  {
   "cell_type": "code",
   "execution_count": null,
   "metadata": {},
   "outputs": [],
   "source": [
    "# (top_20['Last datapoint'].dt.date - top_20['First datapoint'].dt.date).dt.days"
   ]
  },
  {
   "cell_type": "code",
   "execution_count": 11,
   "metadata": {},
   "outputs": [
    {
     "data": {
      "text/plain": [
       "1       42\n",
       "2      412\n",
       "3      203\n",
       "4       26\n",
       "5      692\n",
       "      ... \n",
       "304    163\n",
       "305     43\n",
       "306    810\n",
       "307     59\n",
       "308     48\n",
       "Length: 299, dtype: int64"
      ]
     },
     "execution_count": 11,
     "metadata": {},
     "output_type": "execute_result"
    }
   ],
   "source": [
    "#Bear 32 - 6728 days,?? started 1988-89, then restarted 2004 /  Bear# 281 - 1293 days\n",
    "\n",
    "# days_observ = (clean_bear['Last datapoint'].dt.date - clean_bear['First datapoint'].dt.date).dt.days.nlargest(20)\n",
    "days_observ = (clean_bear['Last datapoint'].dt.date - clean_bear['First datapoint'].dt.date).dt.days\n",
    "days_observ"
   ]
  },
  {
   "cell_type": "code",
   "execution_count": 12,
   "metadata": {},
   "outputs": [
    {
     "data": {
      "text/plain": [
       "6729"
      ]
     },
     "execution_count": 12,
     "metadata": {},
     "output_type": "execute_result"
    }
   ],
   "source": [
    "days_observ[top20_bearids[0]]"
   ]
  },
  {
   "cell_type": "code",
   "execution_count": 13,
   "metadata": {},
   "outputs": [
    {
     "data": {
      "text/plain": [
       "32"
      ]
     },
     "execution_count": 13,
     "metadata": {},
     "output_type": "execute_result"
    }
   ],
   "source": [
    "top20_bearids[0]"
   ]
  },
  {
   "cell_type": "code",
   "execution_count": 14,
   "metadata": {},
   "outputs": [
    {
     "data": {
      "text/plain": [
       "[[32, 6729],\n",
       " [281, 1294],\n",
       " [7, 4134],\n",
       " [52, 5821],\n",
       " [144, 3164],\n",
       " [302, 1849],\n",
       " [89, 1608],\n",
       " [160, 1541],\n",
       " [50, 3929],\n",
       " [139, 5117],\n",
       " [114, 1189],\n",
       " [129, 1882],\n",
       " [207, 877],\n",
       " [135, 881],\n",
       " [204, 582],\n",
       " [38, 3795],\n",
       " [213, 845],\n",
       " [294, 762],\n",
       " [250, 2228],\n",
       " [179, 2261]]"
      ]
     },
     "execution_count": 14,
     "metadata": {},
     "output_type": "execute_result"
    }
   ],
   "source": [
    "top20_daysobser = []\n",
    "\n",
    "for i in top20_bearids:\n",
    "    d= days_observ[i]\n",
    "    top20_daysobser.append([i, d])\n",
    "    \n",
    "top20_daysobser"
   ]
  },
  {
   "cell_type": "code",
   "execution_count": 15,
   "metadata": {},
   "outputs": [
    {
     "data": {
      "text/html": [
       "<div>\n",
       "<style scoped>\n",
       "    .dataframe tbody tr th:only-of-type {\n",
       "        vertical-align: middle;\n",
       "    }\n",
       "\n",
       "    .dataframe tbody tr th {\n",
       "        vertical-align: top;\n",
       "    }\n",
       "\n",
       "    .dataframe thead th {\n",
       "        text-align: right;\n",
       "    }\n",
       "</style>\n",
       "<table border=\"1\" class=\"dataframe\">\n",
       "  <thead>\n",
       "    <tr style=\"text-align: right;\">\n",
       "      <th></th>\n",
       "      <th>Days Observ</th>\n",
       "    </tr>\n",
       "    <tr>\n",
       "      <th>Bear Id</th>\n",
       "      <th></th>\n",
       "    </tr>\n",
       "  </thead>\n",
       "  <tbody>\n",
       "    <tr>\n",
       "      <th>32</th>\n",
       "      <td>6729</td>\n",
       "    </tr>\n",
       "    <tr>\n",
       "      <th>281</th>\n",
       "      <td>1294</td>\n",
       "    </tr>\n",
       "    <tr>\n",
       "      <th>7</th>\n",
       "      <td>4134</td>\n",
       "    </tr>\n",
       "    <tr>\n",
       "      <th>52</th>\n",
       "      <td>5821</td>\n",
       "    </tr>\n",
       "    <tr>\n",
       "      <th>144</th>\n",
       "      <td>3164</td>\n",
       "    </tr>\n",
       "    <tr>\n",
       "      <th>302</th>\n",
       "      <td>1849</td>\n",
       "    </tr>\n",
       "    <tr>\n",
       "      <th>89</th>\n",
       "      <td>1608</td>\n",
       "    </tr>\n",
       "    <tr>\n",
       "      <th>160</th>\n",
       "      <td>1541</td>\n",
       "    </tr>\n",
       "    <tr>\n",
       "      <th>50</th>\n",
       "      <td>3929</td>\n",
       "    </tr>\n",
       "    <tr>\n",
       "      <th>139</th>\n",
       "      <td>5117</td>\n",
       "    </tr>\n",
       "    <tr>\n",
       "      <th>114</th>\n",
       "      <td>1189</td>\n",
       "    </tr>\n",
       "    <tr>\n",
       "      <th>129</th>\n",
       "      <td>1882</td>\n",
       "    </tr>\n",
       "    <tr>\n",
       "      <th>207</th>\n",
       "      <td>877</td>\n",
       "    </tr>\n",
       "    <tr>\n",
       "      <th>135</th>\n",
       "      <td>881</td>\n",
       "    </tr>\n",
       "    <tr>\n",
       "      <th>204</th>\n",
       "      <td>582</td>\n",
       "    </tr>\n",
       "    <tr>\n",
       "      <th>38</th>\n",
       "      <td>3795</td>\n",
       "    </tr>\n",
       "    <tr>\n",
       "      <th>213</th>\n",
       "      <td>845</td>\n",
       "    </tr>\n",
       "    <tr>\n",
       "      <th>294</th>\n",
       "      <td>762</td>\n",
       "    </tr>\n",
       "    <tr>\n",
       "      <th>250</th>\n",
       "      <td>2228</td>\n",
       "    </tr>\n",
       "    <tr>\n",
       "      <th>179</th>\n",
       "      <td>2261</td>\n",
       "    </tr>\n",
       "  </tbody>\n",
       "</table>\n",
       "</div>"
      ],
      "text/plain": [
       "         Days Observ\n",
       "Bear Id             \n",
       "32              6729\n",
       "281             1294\n",
       "7               4134\n",
       "52              5821\n",
       "144             3164\n",
       "302             1849\n",
       "89              1608\n",
       "160             1541\n",
       "50              3929\n",
       "139             5117\n",
       "114             1189\n",
       "129             1882\n",
       "207              877\n",
       "135              881\n",
       "204              582\n",
       "38              3795\n",
       "213              845\n",
       "294              762\n",
       "250             2228\n",
       "179             2261"
      ]
     },
     "execution_count": 15,
     "metadata": {},
     "output_type": "execute_result"
    }
   ],
   "source": [
    "df = pd.DataFrame(top20_daysobser)\n",
    "df.columns= [\"Bear Id\", \"Days Observ\"]\n",
    "df.index = df[\"Bear Id\"]\n",
    "del df[\"Bear Id\"]\n",
    "df"
   ]
  },
  {
   "cell_type": "code",
   "execution_count": 16,
   "metadata": {},
   "outputs": [
    {
     "data": {
      "image/png": "[encoded data removed]",
      "text/plain": [
       "<Figure size 432x288 with 1 Axes>"
      ]
     },
     "metadata": {
      "needs_background": "light"
     },
     "output_type": "display_data"
    },
    {
     "data": {
      "text/plain": [
       "<Figure size 432x288 with 0 Axes>"
      ]
     },
     "metadata": {},
     "output_type": "display_data"
    }
   ],
   "source": [
    "#  CODE for top 20 bears number of days datapoints were recorded\n",
    "\n",
    "days_tracked = df.plot(kind=\"bar\", color= \"purple\", title=\"Number of Days Tracked per Bear (Top 20)\", align=\"center\")\n",
    "days_tracked.set_xlabel('Bear ID')\n",
    "days_tracked.set_ylabel(\"Number of Days\")\n",
    "# plt.xticks(rotation=45)\n",
    "plt.show()\n",
    "plt.tight_layout()\n",
    "plt.savefig(\"./output_data/days_tracked.png\")"
   ]
  },
  {
   "cell_type": "code",
   "execution_count": 17,
   "metadata": {},
   "outputs": [
    {
     "data": {
      "text/html": [
       "<div>\n",
       "<style scoped>\n",
       "    .dataframe tbody tr th:only-of-type {\n",
       "        vertical-align: middle;\n",
       "    }\n",
       "\n",
       "    .dataframe tbody tr th {\n",
       "        vertical-align: top;\n",
       "    }\n",
       "\n",
       "    .dataframe thead th {\n",
       "        text-align: right;\n",
       "    }\n",
       "</style>\n",
       "<table border=\"1\" class=\"dataframe\">\n",
       "  <thead>\n",
       "    <tr style=\"text-align: right;\">\n",
       "      <th></th>\n",
       "      <th>Date</th>\n",
       "    </tr>\n",
       "    <tr>\n",
       "      <th>BearID_mcp</th>\n",
       "      <th></th>\n",
       "    </tr>\n",
       "  </thead>\n",
       "  <tbody>\n",
       "    <tr>\n",
       "      <th>1</th>\n",
       "      <td>1992-05-03</td>\n",
       "    </tr>\n",
       "    <tr>\n",
       "      <th>2</th>\n",
       "      <td>1986-05-02</td>\n",
       "    </tr>\n",
       "    <tr>\n",
       "      <th>3</th>\n",
       "      <td>1989-11-03</td>\n",
       "    </tr>\n",
       "    <tr>\n",
       "      <th>4</th>\n",
       "      <td>1991-04-09</td>\n",
       "    </tr>\n",
       "    <tr>\n",
       "      <th>5</th>\n",
       "      <td>1985-05-12</td>\n",
       "    </tr>\n",
       "    <tr>\n",
       "      <th>...</th>\n",
       "      <td>...</td>\n",
       "    </tr>\n",
       "    <tr>\n",
       "      <th>304</th>\n",
       "      <td>2009-05-09</td>\n",
       "    </tr>\n",
       "    <tr>\n",
       "      <th>305</th>\n",
       "      <td>2009-08-21</td>\n",
       "    </tr>\n",
       "    <tr>\n",
       "      <th>306</th>\n",
       "      <td>2006-04-04</td>\n",
       "    </tr>\n",
       "    <tr>\n",
       "      <th>307</th>\n",
       "      <td>2016-04-22</td>\n",
       "    </tr>\n",
       "    <tr>\n",
       "      <th>308</th>\n",
       "      <td>2010-04-25</td>\n",
       "    </tr>\n",
       "  </tbody>\n",
       "</table>\n",
       "<p>299 rows × 1 columns</p>\n",
       "</div>"
      ],
      "text/plain": [
       "                  Date\n",
       "BearID_mcp            \n",
       "1           1992-05-03\n",
       "2           1986-05-02\n",
       "3           1989-11-03\n",
       "4           1991-04-09\n",
       "5           1985-05-12\n",
       "...                ...\n",
       "304         2009-05-09\n",
       "305         2009-08-21\n",
       "306         2006-04-04\n",
       "307         2016-04-22\n",
       "308         2010-04-25\n",
       "\n",
       "[299 rows x 1 columns]"
      ]
     },
     "execution_count": 17,
     "metadata": {},
     "output_type": "execute_result"
    }
   ],
   "source": [
    "min_dpts"
   ]
  },
  {
   "cell_type": "code",
   "execution_count": 18,
   "metadata": {},
   "outputs": [],
   "source": [
    "## BEAR DISTANCE TRAVELED SECTION"
   ]
  },
  {
   "cell_type": "code",
   "execution_count": 19,
   "metadata": {},
   "outputs": [
    {
     "name": "stdout",
     "output_type": "stream",
     "text": [
      "94.15484964649286\n"
     ]
    }
   ],
   "source": [
    "bear1_loc = (74.005, -125.453)\n",
    "bear1_loc2 = (74.325, -125.857)\n",
    "bear1_loc3 = (74.099, -125.188)\n",
    "bear1_loc4 = (74.148, -125.214)\n",
    "bear1_loc5 = (73.470, -125.055)\n",
    "\n",
    "print(distance.distance(bear1_loc, bear1_loc2, bear1_loc3, bear1_loc4, bear1_loc5).miles)"
   ]
  },
  {
   "cell_type": "code",
   "execution_count": 20,
   "metadata": {},
   "outputs": [
    {
     "name": "stdout",
     "output_type": "stream",
     "text": [
      "23.473465060459073\n"
     ]
    }
   ],
   "source": [
    "# check calculation 1\n",
    "bear1_loc = (74.005, -125.453)\n",
    "bear1_loc2 = (74.325, -125.857)\n",
    "print(distance.distance(bear1_loc, bear1_loc2).miles)"
   ]
  },
  {
   "cell_type": "code",
   "execution_count": 21,
   "metadata": {},
   "outputs": [
    {
     "name": "stdout",
     "output_type": "stream",
     "text": [
      "20.128502863814866\n"
     ]
    }
   ],
   "source": [
    "# check calculation 2\n",
    "bear1_loc2 = (74.325, -125.857)\n",
    "bear1_loc3 = (74.099, -125.188)\n",
    "print(distance.distance(bear1_loc2, bear1_loc3).miles)"
   ]
  },
  {
   "cell_type": "code",
   "execution_count": 22,
   "metadata": {},
   "outputs": [
    {
     "name": "stdout",
     "output_type": "stream",
     "text": [
      "3.4338462843824678\n"
     ]
    }
   ],
   "source": [
    "# check calculation 3\n",
    "bear1_loc3 = (74.099, -125.188)\n",
    "bear1_loc4 = (74.148, -125.214)\n",
    "print(distance.distance(bear1_loc3, bear1_loc4).miles)"
   ]
  },
  {
   "cell_type": "code",
   "execution_count": 81,
   "metadata": {},
   "outputs": [
    {
     "data": {
      "text/plain": [
       "47.119035437836466"
      ]
     },
     "execution_count": 81,
     "metadata": {},
     "output_type": "execute_result"
    }
   ],
   "source": [
    "# check calculation 4\n",
    "bear1_loc4 = (74.148, -125.214)\n",
    "bear1_loc5 = (73.470, -125.055)\n",
    "calc4=distance.distance(bear1_loc4, bear1_loc5).miles\n",
    "calc4"
   ]
  },
  {
   "cell_type": "code",
   "execution_count": 24,
   "metadata": {},
   "outputs": [
    {
     "data": {
      "text/html": [
       "<div>\n",
       "<style scoped>\n",
       "    .dataframe tbody tr th:only-of-type {\n",
       "        vertical-align: middle;\n",
       "    }\n",
       "\n",
       "    .dataframe tbody tr th {\n",
       "        vertical-align: top;\n",
       "    }\n",
       "\n",
       "    .dataframe thead th {\n",
       "        text-align: right;\n",
       "    }\n",
       "</style>\n",
       "<table border=\"1\" class=\"dataframe\">\n",
       "  <thead>\n",
       "    <tr style=\"text-align: right;\">\n",
       "      <th></th>\n",
       "      <th>BearID_mcp</th>\n",
       "      <th>DateTimeUTC_mcp</th>\n",
       "      <th>Date</th>\n",
       "      <th>latitude_mcp</th>\n",
       "      <th>longitude_mcp</th>\n",
       "    </tr>\n",
       "  </thead>\n",
       "  <tbody>\n",
       "    <tr>\n",
       "      <th>0</th>\n",
       "      <td>1</td>\n",
       "      <td>5/3/1992 22:12</td>\n",
       "      <td>1992-05-03</td>\n",
       "      <td>74.005</td>\n",
       "      <td>-125.453</td>\n",
       "    </tr>\n",
       "    <tr>\n",
       "      <th>1</th>\n",
       "      <td>1</td>\n",
       "      <td>5/9/1992 23:54</td>\n",
       "      <td>1992-05-09</td>\n",
       "      <td>74.325</td>\n",
       "      <td>-125.857</td>\n",
       "    </tr>\n",
       "    <tr>\n",
       "      <th>2</th>\n",
       "      <td>1</td>\n",
       "      <td>5/24/1992 21:26</td>\n",
       "      <td>1992-05-24</td>\n",
       "      <td>74.099</td>\n",
       "      <td>-125.188</td>\n",
       "    </tr>\n",
       "    <tr>\n",
       "      <th>3</th>\n",
       "      <td>1</td>\n",
       "      <td>5/25/1992 0:18</td>\n",
       "      <td>1992-05-25</td>\n",
       "      <td>74.148</td>\n",
       "      <td>-125.214</td>\n",
       "    </tr>\n",
       "    <tr>\n",
       "      <th>4</th>\n",
       "      <td>1</td>\n",
       "      <td>6/7/1992 23:08</td>\n",
       "      <td>1992-06-07</td>\n",
       "      <td>73.470</td>\n",
       "      <td>-125.055</td>\n",
       "    </tr>\n",
       "  </tbody>\n",
       "</table>\n",
       "</div>"
      ],
      "text/plain": [
       "   BearID_mcp  DateTimeUTC_mcp        Date  latitude_mcp  longitude_mcp\n",
       "0           1   5/3/1992 22:12  1992-05-03        74.005       -125.453\n",
       "1           1   5/9/1992 23:54  1992-05-09        74.325       -125.857\n",
       "2           1  5/24/1992 21:26  1992-05-24        74.099       -125.188\n",
       "3           1   5/25/1992 0:18  1992-05-25        74.148       -125.214\n",
       "4           1   6/7/1992 23:08  1992-06-07        73.470       -125.055"
      ]
     },
     "execution_count": 24,
     "metadata": {},
     "output_type": "execute_result"
    }
   ],
   "source": [
    "brooke_data=pd.read_csv(\"Polar_bear_data.csv\")\n",
    "brooke_data.head()"
   ]
  },
  {
   "cell_type": "code",
   "execution_count": 131,
   "metadata": {},
   "outputs": [],
   "source": [
    "# bears=brooke_data['BearID_mcp'].unique()\n",
    "# bear_data = []\n",
    "\n",
    "\n",
    "# for each_bear in bears: \n",
    "#     one_bear=brooke_data[brooke_data['BearID_mcp']==each_bear]\n",
    "# #     dis_trav= bear_data(distance.distance(bear_path).miles)\n",
    "#     # distance.distance([(lat, lon), (lat, lon)]).miles\n",
    "#     bear_path=[]\n",
    "#     bear_dis=[]\n",
    "#     for idc, each_row in one_bear.iterrows(): \n",
    "#         bear_path.append((float(each_row['latitude_mcp']), float(each_row['longitude_mcp'])))\n",
    "#         dis_trav=distance.distance(one_bear).miles\n",
    "#         bear_dis.append(dist_trav)\n",
    "# #     print(f'bear {each_bear} traveled {distance.distance(*bear_path).miles} miles')"
   ]
  },
  {
   "cell_type": "code",
   "execution_count": 106,
   "metadata": {},
   "outputs": [],
   "source": [
    "# miles_trav = []\n",
    "\n",
    "# for i in top20_bearids:\n",
    "#     d= bear_path(distance.distance(*bear_path).miles)[i]\n",
    "#     miles_trav.append([i, d])\n",
    "    \n",
    "# miles_trav    "
   ]
  },
  {
   "cell_type": "code",
   "execution_count": null,
   "metadata": {},
   "outputs": [],
   "source": []
  },
  {
   "cell_type": "code",
   "execution_count": 114,
   "metadata": {},
   "outputs": [
    {
     "name": "stdout",
     "output_type": "stream",
     "text": [
      "bear 1 traveled 98.66325666748374 miles\n",
      "bear 2 traveled 1981.240036558478 miles\n",
      "bear 3 traveled 1463.050843317322 miles\n",
      "bear 4 traveled 286.11184294664815 miles\n",
      "bear 5 traveled 3366.302730597736 miles\n",
      "bear 6 traveled 9241.348680334297 miles\n",
      "bear 7 traveled 13524.298402706378 miles\n",
      "bear 8 traveled 536.6631128665301 miles\n",
      "bear 9 traveled 5707.550785626774 miles\n",
      "bear 10 traveled 3458.338821594876 miles\n",
      "bear 11 traveled 3543.83239128182 miles\n",
      "bear 12 traveled 5842.917240572748 miles\n",
      "bear 13 traveled 3596.051104958603 miles\n",
      "bear 14 traveled 2426.121086097305 miles\n",
      "bear 15 traveled 5276.806776879945 miles\n",
      "bear 16 traveled 5054.177138619797 miles\n",
      "bear 17 traveled 3712.609878410183 miles\n",
      "bear 18 traveled 5070.482340000737 miles\n",
      "bear 19 traveled 1829.954274885479 miles\n",
      "bear 20 traveled 4687.4352779735 miles\n",
      "bear 21 traveled 8.378211573680167 miles\n",
      "bear 22 traveled 31.54281256178273 miles\n",
      "bear 23 traveled 10167.80526579593 miles\n",
      "bear 24 traveled 2677.7802005098524 miles\n",
      "bear 25 traveled 4048.879009240146 miles\n",
      "bear 26 traveled 7600.358502602159 miles\n",
      "bear 27 traveled 688.4212047590566 miles\n",
      "bear 28 traveled 1149.8863930089901 miles\n",
      "bear 29 traveled 3015.8273352798956 miles\n",
      "bear 30 traveled 3136.51974984265 miles\n",
      "bear 31 traveled 3013.5252457666907 miles\n",
      "bear 32 traveled 11288.953518772472 miles\n",
      "bear 33 traveled 1169.8256849192953 miles\n",
      "bear 34 traveled 2076.623804633052 miles\n",
      "bear 35 traveled 3229.3918082236514 miles\n",
      "bear 36 traveled 2037.9805816992748 miles\n",
      "bear 37 traveled 4623.394819454014 miles\n",
      "bear 38 traveled 13267.0548853957 miles\n",
      "bear 39 traveled 2558.6611792343674 miles\n",
      "bear 40 traveled 2622.848906991547 miles\n",
      "bear 41 traveled 2243.085808041911 miles\n",
      "bear 42 traveled 34.65539000338324 miles\n",
      "bear 43 traveled 1092.8037434024404 miles\n",
      "bear 44 traveled 8770.186318059225 miles\n",
      "bear 45 traveled 1304.5718634692232 miles\n",
      "bear 46 traveled 1554.1307506515323 miles\n",
      "bear 47 traveled 2434.1979416695763 miles\n",
      "bear 48 traveled 8946.097974561175 miles\n",
      "bear 49 traveled 1771.695143703993 miles\n",
      "bear 50 traveled 10844.497030586253 miles\n",
      "bear 51 traveled 6198.865531028553 miles\n",
      "bear 52 traveled 22562.49760621338 miles\n",
      "bear 53 traveled 2625.5287978629503 miles\n",
      "bear 54 traveled 4633.937443255565 miles\n",
      "bear 55 traveled 4826.898323953076 miles\n",
      "bear 56 traveled 72.05800661694296 miles\n",
      "bear 57 traveled 1041.4501181756086 miles\n",
      "bear 58 traveled 2777.5236970253977 miles\n",
      "bear 59 traveled 3987.5140400742093 miles\n",
      "bear 60 traveled 3666.2473907098843 miles\n",
      "bear 61 traveled 896.9803768270332 miles\n",
      "bear 62 traveled 3065.1233991301965 miles\n",
      "bear 63 traveled 2169.398775282256 miles\n",
      "bear 64 traveled 2909.6805540356377 miles\n",
      "bear 65 traveled 4261.697258998143 miles\n",
      "bear 66 traveled 2669.0004660907407 miles\n",
      "bear 67 traveled 5437.67123792378 miles\n",
      "bear 68 traveled 4068.3059064677996 miles\n",
      "bear 69 traveled 4124.297629690168 miles\n",
      "bear 70 traveled 3756.298372713961 miles\n",
      "bear 71 traveled 1592.7595211978687 miles\n",
      "bear 72 traveled 2970.371763292929 miles\n",
      "bear 73 traveled 5177.12540580251 miles\n",
      "bear 74 traveled 2020.2687429720452 miles\n",
      "bear 75 traveled 538.1554090408002 miles\n",
      "bear 76 traveled 1660.9898036237719 miles\n",
      "bear 77 traveled 8142.569677346481 miles\n",
      "bear 78 traveled 6771.19230477764 miles\n",
      "bear 79 traveled 720.6838026624425 miles\n",
      "bear 80 traveled 3669.0629641069722 miles\n",
      "bear 81 traveled 2710.3522761130953 miles\n",
      "bear 82 traveled 786.5481858760709 miles\n",
      "bear 83 traveled 2474.7954919483504 miles\n",
      "bear 84 traveled 3454.6668831114166 miles\n",
      "bear 85 traveled 5808.277599808447 miles\n",
      "bear 86 traveled 471.3560183437583 miles\n",
      "bear 87 traveled 4563.978498720457 miles\n",
      "bear 88 traveled 4978.511785721354 miles\n",
      "bear 89 traveled 13176.449162291114 miles\n",
      "bear 90 traveled 2341.527607129037 miles\n",
      "bear 91 traveled 2851.7460658528385 miles\n",
      "bear 92 traveled 3432.266021766811 miles\n",
      "bear 93 traveled 5766.857447264316 miles\n",
      "bear 94 traveled 2553.354499700088 miles\n",
      "bear 95 traveled 2937.6245215824633 miles\n",
      "bear 96 traveled 1015.4265800925948 miles\n",
      "bear 97 traveled 4562.22345440492 miles\n",
      "bear 98 traveled 3802.2125509831885 miles\n",
      "bear 99 traveled 3440.8314206137647 miles\n",
      "bear 100 traveled 1268.9333202759003 miles\n",
      "bear 101 traveled 10045.717859565962 miles\n",
      "bear 102 traveled 5693.80243681403 miles\n",
      "bear 103 traveled 1849.5548471956765 miles\n",
      "bear 104 traveled 679.4221778217042 miles\n",
      "bear 105 traveled 2428.164311526813 miles\n",
      "bear 106 traveled 1587.671127571142 miles\n",
      "bear 107 traveled 2447.933983852118 miles\n",
      "bear 109 traveled 901.6933748666763 miles\n",
      "bear 110 traveled 28.35483809159464 miles\n",
      "bear 111 traveled 9427.210068193412 miles\n",
      "bear 112 traveled 4856.1840716985425 miles\n",
      "bear 113 traveled 130.2960439064118 miles\n",
      "bear 114 traveled 10148.868549154822 miles\n",
      "bear 115 traveled 3429.2351471205466 miles\n",
      "bear 116 traveled 3271.9835881485874 miles\n",
      "bear 117 traveled 7076.899064942736 miles\n",
      "bear 118 traveled 4821.207488897931 miles\n",
      "bear 119 traveled 714.4560435038704 miles\n",
      "bear 120 traveled 649.5693688288269 miles\n",
      "bear 121 traveled 10.466610941452117 miles\n",
      "bear 122 traveled 1300.377787606923 miles\n",
      "bear 123 traveled 1713.7029979501106 miles\n",
      "bear 124 traveled 6031.922042189564 miles\n",
      "bear 125 traveled 7092.593196180985 miles\n",
      "bear 126 traveled 5258.341513451808 miles\n",
      "bear 127 traveled 6334.7188778728705 miles\n",
      "bear 128 traveled 11004.103796834053 miles\n",
      "bear 129 traveled 13883.164088466214 miles\n",
      "bear 130 traveled 1701.7835118672251 miles\n",
      "bear 131 traveled 3267.416914925948 miles\n",
      "bear 132 traveled 4443.597347943736 miles\n",
      "bear 133 traveled 1711.7317826213334 miles\n",
      "bear 134 traveled 1081.4520570148186 miles\n",
      "bear 135 traveled 5501.606972310264 miles\n",
      "bear 136 traveled 2010.177957223556 miles\n",
      "bear 137 traveled 1667.8563195498832 miles\n",
      "bear 138 traveled 1594.2875618626204 miles\n",
      "bear 139 traveled 10794.130671332407 miles\n",
      "bear 140 traveled 3727.9110072094104 miles\n",
      "bear 141 traveled 7234.519261110381 miles\n",
      "bear 142 traveled 1526.74084417368 miles\n",
      "bear 143 traveled 2406.0599132703583 miles\n",
      "bear 144 traveled 16047.475774371664 miles\n",
      "bear 145 traveled 782.8190866469708 miles\n",
      "bear 146 traveled 1964.9719612901397 miles\n",
      "bear 147 traveled 4983.15787796114 miles\n",
      "bear 148 traveled 3813.0475522855277 miles\n",
      "bear 149 traveled 6399.635380369676 miles\n",
      "bear 151 traveled 9143.556445826656 miles\n",
      "bear 152 traveled 8748.216495567667 miles\n",
      "bear 153 traveled 2115.70008347068 miles\n",
      "bear 154 traveled 484.3087773703821 miles\n",
      "bear 155 traveled 176.40327775085782 miles\n",
      "bear 156 traveled 1855.5827230206146 miles\n",
      "bear 157 traveled 5295.358817919103 miles\n",
      "bear 159 traveled 75.997835478207 miles\n",
      "bear 160 traveled 7072.483349365937 miles\n",
      "bear 161 traveled 4319.119903532512 miles\n",
      "bear 162 traveled 5254.469226681257 miles\n",
      "bear 163 traveled 3886.356096854946 miles\n",
      "bear 164 traveled 7610.950276424855 miles\n",
      "bear 165 traveled 7836.599680547261 miles\n",
      "bear 166 traveled 422.9111621793053 miles\n",
      "bear 167 traveled 8935.48633188573 miles\n",
      "bear 168 traveled 13213.310037202702 miles\n",
      "bear 169 traveled 25.220357756570262 miles\n",
      "bear 170 traveled 103.00340505774282 miles\n",
      "bear 171 traveled 4884.80224876209 miles\n",
      "bear 172 traveled 4731.81060070168 miles\n",
      "bear 173 traveled 4655.094461760903 miles\n",
      "bear 174 traveled 2865.3190950465414 miles\n",
      "bear 176 traveled 2863.2747277463245 miles\n",
      "bear 177 traveled 1941.7792633980066 miles\n",
      "bear 178 traveled 4410.127859460203 miles\n",
      "bear 179 traveled 10591.043341079341 miles\n",
      "bear 180 traveled 379.43233029485765 miles\n",
      "bear 181 traveled 9329.654382266539 miles\n",
      "bear 182 traveled 112.91951854895291 miles\n",
      "bear 183 traveled 0.12894390650689483 miles\n",
      "bear 185 traveled 10550.47333854421 miles\n",
      "bear 186 traveled 5912.380650142021 miles\n",
      "bear 187 traveled 3230.9267624853346 miles\n",
      "bear 188 traveled 3488.004748910719 miles\n",
      "bear 189 traveled 3674.1452810243104 miles\n",
      "bear 190 traveled 2268.9169988151725 miles\n",
      "bear 191 traveled 4643.015260298606 miles\n",
      "bear 192 traveled 2348.3897652078795 miles\n",
      "bear 193 traveled 1.2338544675711471 miles\n",
      "bear 194 traveled 3194.348724943701 miles\n",
      "bear 195 traveled 7.582334238929337 miles\n",
      "bear 196 traveled 1731.4220523985384 miles\n",
      "bear 197 traveled 3197.3080508713083 miles\n",
      "bear 198 traveled 3019.3997353859327 miles\n",
      "bear 199 traveled 1117.6110613229016 miles\n",
      "bear 200 traveled 8402.938888997649 miles\n",
      "bear 201 traveled 490.9962153345069 miles\n",
      "bear 202 traveled 886.3599503907017 miles\n",
      "bear 203 traveled 53.56165575890956 miles\n"
     ]
    },
    {
     "name": "stdout",
     "output_type": "stream",
     "text": [
      "bear 204 traveled 5247.583006207009 miles\n",
      "bear 205 traveled 6130.207506341632 miles\n",
      "bear 206 traveled 5519.680147068861 miles\n",
      "bear 207 traveled 6223.29631601744 miles\n",
      "bear 208 traveled 4711.180896109608 miles\n",
      "bear 209 traveled 61.6058676724521 miles\n",
      "bear 210 traveled 4449.09854056903 miles\n",
      "bear 212 traveled 3775.959080793849 miles\n",
      "bear 213 traveled 9261.653804251198 miles\n",
      "bear 214 traveled 6431.891976166231 miles\n",
      "bear 215 traveled 3471.5239257392645 miles\n",
      "bear 216 traveled 0.36535082983788036 miles\n",
      "bear 217 traveled 240.51937515458113 miles\n",
      "bear 218 traveled 1029.374352649464 miles\n",
      "bear 219 traveled 660.8212945508842 miles\n",
      "bear 220 traveled 2672.010997615945 miles\n",
      "bear 221 traveled 410.74317992428104 miles\n",
      "bear 222 traveled 2978.9425052528327 miles\n",
      "bear 223 traveled 8008.192262013548 miles\n",
      "bear 224 traveled 7266.784985253321 miles\n",
      "bear 226 traveled 8120.00148394979 miles\n",
      "bear 228 traveled 2517.4690802417795 miles\n",
      "bear 229 traveled 6249.011303355945 miles\n",
      "bear 230 traveled 3.532459286097257 miles\n",
      "bear 231 traveled 1515.689188113123 miles\n",
      "bear 232 traveled 290.12169504379705 miles\n",
      "bear 233 traveled 304.4257602626516 miles\n",
      "bear 234 traveled 1359.4493206426334 miles\n",
      "bear 235 traveled 13733.05141040832 miles\n",
      "bear 236 traveled 10590.62903433254 miles\n",
      "bear 237 traveled 256.17925352108057 miles\n",
      "bear 238 traveled 850.4692099116168 miles\n",
      "bear 239 traveled 2465.386687619335 miles\n",
      "bear 240 traveled 67.07663240484243 miles\n",
      "bear 241 traveled 0.08979526732286422 miles\n",
      "bear 242 traveled 1386.7475575395933 miles\n",
      "bear 243 traveled 145.41606535717108 miles\n",
      "bear 244 traveled 8271.33241491218 miles\n",
      "bear 245 traveled 3427.972044896531 miles\n",
      "bear 246 traveled 4740.291979767329 miles\n",
      "bear 247 traveled 2.467631743795559 miles\n",
      "bear 248 traveled 6397.43344172503 miles\n",
      "bear 249 traveled 2633.51793708968 miles\n",
      "bear 250 traveled 6612.393011273202 miles\n",
      "bear 251 traveled 1234.2731014329252 miles\n",
      "bear 252 traveled 4550.070529860937 miles\n",
      "bear 253 traveled 210.82902107534005 miles\n",
      "bear 254 traveled 1307.5723921630845 miles\n",
      "bear 255 traveled 408.15783275132924 miles\n",
      "bear 256 traveled 191.972195843695 miles\n",
      "bear 257 traveled 3797.2375169765733 miles\n",
      "bear 258 traveled 419.54666890403973 miles\n",
      "bear 259 traveled 553.124021336478 miles\n",
      "bear 260 traveled 718.6087102851782 miles\n",
      "bear 261 traveled 3830.8628339877223 miles\n",
      "bear 262 traveled 494.2978352042655 miles\n",
      "bear 263 traveled 1646.3891860290948 miles\n",
      "bear 264 traveled 3072.689525454507 miles\n",
      "bear 265 traveled 2591.7075386741026 miles\n",
      "bear 266 traveled 388.7507716321744 miles\n",
      "bear 267 traveled 945.8180391190608 miles\n",
      "bear 268 traveled 3629.3003664227795 miles\n",
      "bear 269 traveled 1301.899717332955 miles\n",
      "bear 270 traveled 2645.776570205881 miles\n",
      "bear 271 traveled 4140.545467058561 miles\n",
      "bear 272 traveled 152.25090223724945 miles\n",
      "bear 273 traveled 420.3720982117611 miles\n",
      "bear 274 traveled 2021.1339681277898 miles\n",
      "bear 275 traveled 5261.455492442955 miles\n",
      "bear 276 traveled 719.6754966057129 miles\n",
      "bear 277 traveled 4046.1290035949582 miles\n",
      "bear 278 traveled 434.6592705010674 miles\n",
      "bear 279 traveled 3838.561150543016 miles\n",
      "bear 280 traveled 4199.280716899612 miles\n",
      "bear 281 traveled 10346.856407275685 miles\n",
      "bear 282 traveled 1671.476726288981 miles\n",
      "bear 283 traveled 3672.785977623414 miles\n",
      "bear 284 traveled 97.11035718396663 miles\n",
      "bear 285 traveled 592.1077422455833 miles\n",
      "bear 286 traveled 933.4743967562132 miles\n",
      "bear 287 traveled 857.8481569711312 miles\n",
      "bear 288 traveled 3489.8423234841566 miles\n",
      "bear 289 traveled 3860.8949069311634 miles\n",
      "bear 290 traveled 1842.1397758968353 miles\n",
      "bear 291 traveled 3770.099539647461 miles\n",
      "bear 292 traveled 6832.31465602242 miles\n",
      "bear 293 traveled 3468.3127453107973 miles\n",
      "bear 294 traveled 5558.632446948486 miles\n",
      "bear 295 traveled 6245.591179353713 miles\n",
      "bear 297 traveled 2.131386227084712 miles\n",
      "bear 298 traveled 1627.6054975676557 miles\n",
      "bear 299 traveled 524.88178412516 miles\n",
      "bear 300 traveled 74.53627567477844 miles\n",
      "bear 301 traveled 78.02364574748006 miles\n",
      "bear 302 traveled 4726.543213003875 miles\n",
      "bear 303 traveled 774.9496041082921 miles\n",
      "bear 304 traveled 1735.1267864502527 miles\n",
      "bear 305 traveled 528.5987725061026 miles\n",
      "bear 306 traveled 6891.002975161484 miles\n",
      "bear 307 traveled 766.97911058176 miles\n",
      "bear 308 traveled 489.70890480565276 miles\n"
     ]
    }
   ],
   "source": [
    "#WORKING CODE BLOCK - DO NOT DELETE\n",
    "\n",
    "bears=brooke_data['BearID_mcp'].unique()\n",
    "bear_data = []\n",
    "\n",
    "for each_bear in bears: \n",
    "    one_bear=brooke_data[brooke_data['BearID_mcp']==each_bear]\n",
    "    # distance.distance([(lat, lon), (lat, lon)]).miles\n",
    "    bear_path=[]\n",
    "    for idc, each_row in one_bear.iterrows(): \n",
    "        bear_path.append((float(each_row['latitude_mcp']), float(each_row['longitude_mcp'])))\n",
    "    print(f'bear {each_bear} traveled {distance.distance(*bear_path).miles} miles')"
   ]
  },
  {
   "cell_type": "code",
   "execution_count": 130,
   "metadata": {},
   "outputs": [
    {
     "data": {
      "image/png": "[encoded data removed]",
      "text/plain": [
       "<Figure size 432x288 with 1 Axes>"
      ]
     },
     "metadata": {
      "needs_background": "light"
     },
     "output_type": "display_data"
    },
    {
     "data": {
      "text/plain": [
       "<Figure size 432x288 with 0 Axes>"
      ]
     },
     "metadata": {},
     "output_type": "display_data"
    }
   ],
   "source": [
    "#  CODE for top 20 bears distance recorded PLOT\n",
    "\n",
    "top20bears = [32,281,7,52,144,302,89,160,50,139,114,129,207,135,204,38,213,294,250,179]\n",
    "top20dist = [11289, 10347, 13524, 22562, 16047, 4727, 13176, 7072, 10844, 10794, 10149, 13883, 6223, 5502, 5248, 13267, 9262, 5559, 6612, 10591]\n",
    "x_axis = np.arange(len(top20dist))\n",
    "\n",
    "# x_axis = np.arange(len(top20dist))\n",
    "plt.bar(x_axis, top20dist, color=\"pink\", align=\"center\")\n",
    "tick_locations = [value for value in x_axis]\n",
    "plt.xticks(tick_locations, top20bears)\n",
    "plt.title(\"Miles Traversed Per Bear During Tracking (Top 20)\")\n",
    "plt.xlabel('Bear ID')\n",
    "plt.ylabel(\"Miles Traveled\")\n",
    "plt.xticks(rotation=90)\n",
    "plt.tight_layout()\n",
    "plt.show()\n",
    "plt.savefig(\"output_data/distance.png\")"
   ]
  },
  {
   "cell_type": "code",
   "execution_count": 111,
   "metadata": {},
   "outputs": [],
   "source": [
    "# bears=brooke_data['BearID_mcp'].unique()\n",
    "\n",
    "# for each_bear in bears: \n",
    "#     one_bear=brooke_data[brooke_data['BearID_mcp']==each_bear]\n",
    "#     test_path=[]\n",
    "#     for idc, each_row in one_bear.iterrows():\n",
    "#         test_path.append((float(each_row['latitude_mcp']), float(each_row['longitude_mcp'])))\n",
    "#         dis_trav=[]\n",
    "#         for trav, each_row in one_bear.iterrows():\n",
    "#             dis_trav.append(distance.distance(each_row).miles)\n"
   ]
  },
  {
   "cell_type": "code",
   "execution_count": 113,
   "metadata": {},
   "outputs": [],
   "source": [
    "# bc_test = (each_row['latitude_mcp']), (each_row['longitude_mcp'])\n",
    "# bc = distance.distance(test_path).miles\n",
    "# # type(bc_test)"
   ]
  },
  {
   "cell_type": "code",
   "execution_count": 110,
   "metadata": {},
   "outputs": [
    {
     "data": {
      "text/plain": [
       "[(74.005, -125.45299999999999)]"
      ]
     },
     "execution_count": 110,
     "metadata": {},
     "output_type": "execute_result"
    }
   ],
   "source": [
    "test_path"
   ]
  },
  {
   "cell_type": "code",
   "execution_count": 65,
   "metadata": {},
   "outputs": [
    {
     "data": {
      "text/plain": [
       "array([  1,   2,   3,   4,   5,   6,   7,   8,   9,  10,  11,  12,  13,\n",
       "        14,  15,  16,  17,  18,  19,  20,  21,  22,  23,  24,  25,  26,\n",
       "        27,  28,  29,  30,  31,  32,  33,  34,  35,  36,  37,  38,  39,\n",
       "        40,  41,  42,  43,  44,  45,  46,  47,  48,  49,  50,  51,  52,\n",
       "        53,  54,  55,  56,  57,  58,  59,  60,  61,  62,  63,  64,  65,\n",
       "        66,  67,  68,  69,  70,  71,  72,  73,  74,  75,  76,  77,  78,\n",
       "        79,  80,  81,  82,  83,  84,  85,  86,  87,  88,  89,  90,  91,\n",
       "        92,  93,  94,  95,  96,  97,  98,  99, 100, 101, 102, 103, 104,\n",
       "       105, 106, 107, 109, 110, 111, 112, 113, 114, 115, 116, 117, 118,\n",
       "       119, 120, 121, 122, 123, 124, 125, 126, 127, 128, 129, 130, 131,\n",
       "       132, 133, 134, 135, 136, 137, 138, 139, 140, 141, 142, 143, 144,\n",
       "       145, 146, 147, 148, 149, 151, 152, 153, 154, 155, 156, 157, 159,\n",
       "       160, 161, 162, 163, 164, 165, 166, 167, 168, 169, 170, 171, 172,\n",
       "       173, 174, 176, 177, 178, 179, 180, 181, 182, 183, 185, 186, 187,\n",
       "       188, 189, 190, 191, 192, 193, 194, 195, 196, 197, 198, 199, 200,\n",
       "       201, 202, 203, 204, 205, 206, 207, 208, 209, 210, 212, 213, 214,\n",
       "       215, 216, 217, 218, 219, 220, 221, 222, 223, 224, 226, 228, 229,\n",
       "       230, 231, 232, 233, 234, 235, 236, 237, 238, 239, 240, 241, 242,\n",
       "       243, 244, 245, 246, 247, 248, 249, 250, 251, 252, 253, 254, 255,\n",
       "       256, 257, 258, 259, 260, 261, 262, 263, 264, 265, 266, 267, 268,\n",
       "       269, 270, 271, 272, 273, 274, 275, 276, 277, 278, 279, 280, 281,\n",
       "       282, 283, 284, 285, 286, 287, 288, 289, 290, 291, 292, 293, 294,\n",
       "       295, 297, 298, 299, 300, 301, 302, 303, 304, 305, 306, 307, 308],\n",
       "      dtype=int64)"
      ]
     },
     "execution_count": 65,
     "metadata": {},
     "output_type": "execute_result"
    }
   ],
   "source": [
    "bears"
   ]
  },
  {
   "cell_type": "code",
   "execution_count": 70,
   "metadata": {},
   "outputs": [
    {
     "data": {
      "text/plain": [
       "[(71.027, -148.70600000000002),\n",
       " (71.023, -148.70600000000002),\n",
       " (71.021, -148.739),\n",
       " (71.02199999999999, -148.735),\n",
       " (71.02199999999999, -148.75),\n",
       " (71.024, -148.851),\n",
       " (71.02600000000001, -148.859),\n",
       " (71.031, -148.891),\n",
       " (71.02600000000001, -148.859),\n",
       " (71.02600000000001, -148.862),\n",
       " (71.01899999999999, -148.847),\n",
       " (71.02199999999999, -148.863),\n",
       " (70.995, -148.811),\n",
       " (71.039, -148.851),\n",
       " (71.038, -148.839),\n",
       " (71.039, -148.764),\n",
       " (70.957, -148.421),\n",
       " (70.959, -148.42700000000002),\n",
       " (70.962, -148.181),\n",
       " (70.836, -147.917),\n",
       " (70.889, -147.533),\n",
       " (71.045, -147.4),\n",
       " (71.204, -147.436),\n",
       " (71.11399999999999, -147.43),\n",
       " (70.967, -146.987),\n",
       " (70.868, -146.725),\n",
       " (70.79, -146.553),\n",
       " (70.773, -146.503),\n",
       " (70.947, -146.908),\n",
       " (71.101, -147.123),\n",
       " (71.465, -147.135),\n",
       " (71.138, -147.077),\n",
       " (70.986, -146.296),\n",
       " (70.958, -145.959),\n",
       " (70.863, -145.866),\n",
       " (70.815, -145.721),\n",
       " (70.738, -144.655),\n",
       " (70.73100000000001, -144.343),\n",
       " (70.686, -144.05200000000002),\n",
       " (70.941, -144.89700000000002),\n",
       " (71.319, -145.626),\n",
       " (71.712, -146.201),\n",
       " (72.013, -146.73),\n",
       " (72.293, -146.74),\n",
       " (72.516, -145.572),\n",
       " (72.572, -144.761),\n",
       " (72.395, -144.526),\n",
       " (72.152, -143.876),\n",
       " (71.98, -143.512)]"
      ]
     },
     "execution_count": 70,
     "metadata": {},
     "output_type": "execute_result"
    }
   ],
   "source": [
    "test_path"
   ]
  }
 ],
 "metadata": {
  "kernelspec": {
   "display_name": "Python 3",
   "language": "python",
   "name": "python3"
  },
  "language_info": {
   "codemirror_mode": {
    "name": "ipython",
    "version": 3
   },
   "file_extension": ".py",
   "mimetype": "text/x-python",
   "name": "python",
   "nbconvert_exporter": "python",
   "pygments_lexer": "ipython3",
   "version": "3.7.6"
  }
 },
 "nbformat": 4,
 "nbformat_minor": 4
}
